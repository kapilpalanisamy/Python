{
 "cells": [
  {
   "cell_type": "markdown",
   "id": "dc6fe688",
   "metadata": {},
   "source": [
    "Mary is developing an application on the concepts of prime numbers and factorization; among N numbers in the list displayed on the application display, the application will highlight all the numbers that appear as many times on the display as the frequency of their prime factors.\n",
    "Input\n",
    "•\tThe first line contains an integer num representing the size of the list NN.\n",
    "•\tThe second line contains N space-separated integers representing the numbers displayed on the application display.\n",
    "Output\n",
    "•\tPrint M space-separated integers representing all numbers that appear as many times in the list as the frequency of their prime factors, in ascending order; if no such number exists, print -1.\n",
    "Constraints\n",
    "•\t0< num ≤ 105\n",
    "•\t0≤ data ≤106, where data represents a number on the display.\n",
    "Example\n",
    "Input:\n",
    "7\n",
    "4 2 12 25 12 12 25\n",
    "Output:\n",
    "2 12 25\n",
    "Explanation:\n",
    "•\t2 has 1 prime factor.\n",
    "•\t12 has 3 prime factors: 2, 2, 3.\n",
    "•\t25 has 2 prime factors: 5, 5.\n",
    "•\tIn the list, 2 occurs 1 time, 12 occurs 3 times, and 25 occurs 2 times, so the numbers satisfying the condition are 2, 12, and 25.\n",
    "\n"
   ]
  },
  {
   "cell_type": "code",
   "execution_count": 6,
   "id": "342822a6",
   "metadata": {},
   "outputs": [
    {
     "name": "stdout",
     "output_type": "stream",
     "text": [
      "Counter({12: 3, 25: 2, 4: 1, 2: 1})\n",
      "[2, 12, 25]\n"
     ]
    }
   ],
   "source": [
    "#prime factorization \n",
    "from collections import Counter\n",
    "def prime_count(num):\n",
    "    count=0\n",
    "    if num<2:\n",
    "        return 0\n",
    "    while num%2==0:\n",
    "        count +=1\n",
    "        num //=2\n",
    "\n",
    "    for i in range(3,int(num**0.5)+1,2):\n",
    "        while num%i==0:\n",
    "            count+=1\n",
    "            num//=i\n",
    "    if num>1:\n",
    "        count +=1\n",
    "    return count\n",
    "\n",
    "def main():\n",
    "    n=int(input())\n",
    "    a=list(map(int,input().split()))\n",
    "    res=[]\n",
    "    freq=Counter(a)\n",
    "    print(freq)\n",
    "    for num in freq:\n",
    "        if freq[num]==prime_count(num):\n",
    "            res.append(num)\n",
    "    print(res)\n",
    "if __name__ == \"__main__\":\n",
    "    main()"
   ]
  }
 ],
 "metadata": {
  "kernelspec": {
   "display_name": "base",
   "language": "python",
   "name": "python3"
  },
  "language_info": {
   "codemirror_mode": {
    "name": "ipython",
    "version": 3
   },
   "file_extension": ".py",
   "mimetype": "text/x-python",
   "name": "python",
   "nbconvert_exporter": "python",
   "pygments_lexer": "ipython3",
   "version": "3.13.5"
  }
 },
 "nbformat": 4,
 "nbformat_minor": 5
}
