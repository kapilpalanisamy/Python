{
 "cells": [
  {
   "cell_type": "code",
   "execution_count": 4,
   "id": "4c8240a4",
   "metadata": {},
   "outputs": [
    {
     "name": "stdout",
     "output_type": "stream",
     "text": [
      "Anagram pairs: [['abc', 'bca'], ['def', 'fed'], ['ghi', 'ihg']]\n"
     ]
    }
   ],
   "source": [
    "#anagram\n",
    "def isanagram(str1, str2):\n",
    "    if len(str1) != len(str2):\n",
    "        return False\n",
    "    return sorted(str1) == sorted(str2)\n",
    "\n",
    "l1=['abc','bca','def','fed','ghi','ihg','xyz']\n",
    "res=[]\n",
    "for i in range(len(l1)):\n",
    "    for j in range(i+1,len(l1)):\n",
    "        if isanagram(l1[i],l1[j]):\n",
    "            res.append([l1[i],l1[j]])\n",
    "\n",
    "print(\"Anagram pairs:\", res)"
   ]
  },
  {
   "cell_type": "code",
   "execution_count": 5,
   "id": "9c10000d",
   "metadata": {},
   "outputs": [
    {
     "name": "stdout",
     "output_type": "stream",
     "text": [
      "Anagram pairs: [['abc', 'bca'], ['def', 'fed'], ['ghi', 'ihg']]\n"
     ]
    }
   ],
   "source": [
    "#anagram\n",
    "def isanagram(str1, str2):\n",
    "    if len(str1) != len(str2):\n",
    "        return False\n",
    "    freq=[0]*26\n",
    "    for ch in str1:\n",
    "        freq[ord(ch)-ord('a')]+=1\n",
    "    for ch in str2:\n",
    "        freq[ord(ch)-ord('a')]-=1\n",
    "        if freq[ord(ch)-ord('a')]<0:\n",
    "            return False\n",
    "    return True\n",
    "\n",
    "l1=['abc','bca','def','fed','ghi','ihg','xyz']\n",
    "res=[]\n",
    "for i in range(len(l1)):\n",
    "    for j in range(i+1,len(l1)):\n",
    "        if isanagram(l1[i],l1[j]):\n",
    "            res.append([l1[i],l1[j]])\n",
    "\n",
    "print(\"Anagram pairs:\", res)"
   ]
  },
  {
   "cell_type": "code",
   "execution_count": 6,
   "id": "ad9bd537",
   "metadata": {},
   "outputs": [
    {
     "name": "stdout",
     "output_type": "stream",
     "text": [
      "Anagram pairs: [['abc', 'bca'], ['def', 'fed'], ['ghi', 'ihg']]\n"
     ]
    }
   ],
   "source": [
    "from collections import Counter\n",
    "\n",
    "def isanagram(str1, str2):\n",
    "    return Counter(str1) == Counter(str2)\n",
    "\n",
    "l1 = ['abc','bca','def','fed','ghi','ihg','xyz']\n",
    "res = []\n",
    "\n",
    "for i in range(len(l1)):\n",
    "    for j in range(i+1, len(l1)):\n",
    "        if isanagram(l1[i], l1[j]):\n",
    "            res.append([l1[i], l1[j]])\n",
    "\n",
    "print(\"Anagram pairs:\", res)\n"
   ]
  },
  {
   "cell_type": "code",
   "execution_count": null,
   "id": "f9b88abe",
   "metadata": {},
   "outputs": [],
   "source": []
  }
 ],
 "metadata": {
  "kernelspec": {
   "display_name": "Python 3",
   "language": "python",
   "name": "python3"
  },
  "language_info": {
   "codemirror_mode": {
    "name": "ipython",
    "version": 3
   },
   "file_extension": ".py",
   "mimetype": "text/x-python",
   "name": "python",
   "nbconvert_exporter": "python",
   "pygments_lexer": "ipython3",
   "version": "3.11.9"
  }
 },
 "nbformat": 4,
 "nbformat_minor": 5
}
