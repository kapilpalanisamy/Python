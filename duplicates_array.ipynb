{
 "cells": [
  {
   "cell_type": "code",
   "execution_count": null,
   "id": "48aff3ae",
   "metadata": {},
   "outputs": [],
   "source": [
    "#There are mainly 4 approach to solve this problem – \n",
    "\n",
    "#Brute Force Method\n",
    "#Sorting Method\n",
    "#Hash Set\n",
    "#Hash Set Length"
   ]
  },
  {
   "cell_type": "code",
   "execution_count": 13,
   "id": "8969329b",
   "metadata": {},
   "outputs": [
    {
     "data": {
      "text/plain": [
       "True"
      ]
     },
     "execution_count": 13,
     "metadata": {},
     "output_type": "execute_result"
    }
   ],
   "source": [
    "##Brute Force Method\n",
    "class Solution:\n",
    "    def duplicates(self,num):\n",
    "        for i in range(len(num)):\n",
    "            for j in range(i+1,len(num)):\n",
    "                if num[i]==num[j]:\n",
    "                    return True\n",
    "        return False\n",
    "a=Solution()\n",
    "num = [1, 2, 3,2]\n",
    "a.duplicates(num)"
   ]
  },
  {
   "cell_type": "code",
   "execution_count": 14,
   "id": "2a92da89",
   "metadata": {},
   "outputs": [
    {
     "data": {
      "text/plain": [
       "True"
      ]
     },
     "execution_count": 14,
     "metadata": {},
     "output_type": "execute_result"
    }
   ],
   "source": [
    "#Sorting Method\n",
    "class Solution:\n",
    "    def duplicates(self,num):\n",
    "        num.sort()\n",
    "        for i in range(len(num)-1):\n",
    "            if num[i]==num[i+1]:\n",
    "                return True\n",
    "        return False\n",
    "a=Solution()\n",
    "num = [1, 2, 3,2]\n",
    "a.duplicates(num)\n",
    "        "
   ]
  },
  {
   "cell_type": "code",
   "execution_count": 15,
   "id": "5a3ff119",
   "metadata": {},
   "outputs": [
    {
     "data": {
      "text/plain": [
       "True"
      ]
     },
     "execution_count": 15,
     "metadata": {},
     "output_type": "execute_result"
    }
   ],
   "source": [
    "#Hash Set\n",
    "class Solution:\n",
    "    def duplicates(self,num):\n",
    "        visited=set()\n",
    "        for i in num:\n",
    "            if i in visited:\n",
    "                return True\n",
    "            visited.add(i)\n",
    "        return False\n",
    "a=Solution()\n",
    "num = [1, 2, 3,2]\n",
    "a.duplicates(num)"
   ]
  },
  {
   "cell_type": "code",
   "execution_count": 17,
   "id": "e72a251d",
   "metadata": {},
   "outputs": [
    {
     "data": {
      "text/plain": [
       "True"
      ]
     },
     "execution_count": 17,
     "metadata": {},
     "output_type": "execute_result"
    }
   ],
   "source": [
    "#Hash Set Length\n",
    "class Solution:\n",
    "    def duplicates(self,num):\n",
    "        return len(set(num))<len(num)\n",
    "a=Solution()\n",
    "num = [1, 2, 3,2]\n",
    "a.duplicates(num)"
   ]
  }
 ],
 "metadata": {
  "kernelspec": {
   "display_name": "Python 3",
   "language": "python",
   "name": "python3"
  },
  "language_info": {
   "codemirror_mode": {
    "name": "ipython",
    "version": 3
   },
   "file_extension": ".py",
   "mimetype": "text/x-python",
   "name": "python",
   "nbconvert_exporter": "python",
   "pygments_lexer": "ipython3",
   "version": "3.11.9"
  }
 },
 "nbformat": 4,
 "nbformat_minor": 5
}
