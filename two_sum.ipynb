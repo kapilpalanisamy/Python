{
 "cells": [
  {
   "cell_type": "code",
   "execution_count": null,
   "id": "346ce1b7",
   "metadata": {},
   "outputs": [],
   "source": [
    "#Brute Force Method\n",
    "#Sorting Method\n",
    "#Hash Map(Two Pass) Method\n",
    "#Hash Map(One Pass) Method"
   ]
  },
  {
   "cell_type": "code",
   "execution_count": 1,
   "id": "d48af6c0",
   "metadata": {},
   "outputs": [
    {
     "data": {
      "text/plain": [
       "[0, 1]"
      ]
     },
     "execution_count": 1,
     "metadata": {},
     "output_type": "execute_result"
    }
   ],
   "source": [
    "#Brute Force Method\n",
    "class Solution:\n",
    "    def two_sum(self,nums,target):\n",
    "        for i in range(len(nums)):\n",
    "            for j in range(i+1,len(nums)):\n",
    "                if nums[i]+nums[j]==target:\n",
    "                    return [i,j]\n",
    "sol=Solution()\n",
    "nums = [3,4,5,6]\n",
    "target = 7\n",
    "sol.two_sum(nums,target)\n",
    "            "
   ]
  },
  {
   "cell_type": "code",
   "execution_count": null,
   "id": "a6f1a55e",
   "metadata": {},
   "outputs": [
    {
     "data": {
      "text/plain": [
       "[0, 3]"
      ]
     },
     "execution_count": 7,
     "metadata": {},
     "output_type": "execute_result"
    }
   ],
   "source": [
    "#Sorting Method\n",
    "class Solution:\n",
    "    def two_sum(self,nums,target):\n",
    "        A=[]\n",
    "        for i,num in enumerate(nums):\n",
    "            A.append([num,i])\n",
    "        A.sort()\n",
    "        ptr1=0\n",
    "        ptr2=len(nums)-1\n",
    "        while ptr1<ptr2:\n",
    "            curr_sum=A[ptr1][0]+A[ptr2][0]\n",
    "            if curr_sum==target:\n",
    "                return [A[ptr1][1],A[ptr2][1]]\n",
    "            if curr_sum<target:\n",
    "                ptr1+=1\n",
    "            else:\n",
    "                ptr2 -=1\n",
    "        return []\n",
    "sol=Solution()\n",
    "nums = [3,5,6,4]\n",
    "target = 7\n",
    "sol.two_sum(nums,target)"
   ]
  },
  {
   "cell_type": "code",
   "execution_count": null,
   "id": "1c791efa",
   "metadata": {},
   "outputs": [
    {
     "data": {
      "text/plain": [
       "[0, 3]"
      ]
     },
     "execution_count": 9,
     "metadata": {},
     "output_type": "execute_result"
    }
   ],
   "source": [
    "#Hash Map(Two Pass) Method\n",
    "class Solution:\n",
    "    def twoSum(self, nums, target):\n",
    "        indices = {}  # val -> index\n",
    "\n",
    "        for i, n in enumerate(nums):\n",
    "            indices[n] = i\n",
    "\n",
    "        for i, n in enumerate(nums):\n",
    "            diff = target - n\n",
    "            if diff in indices and indices[diff] != i:\n",
    "                return [i, indices[diff]]\n",
    "sol=Solution()\n",
    "nums = [3,5,6,4]\n",
    "target = 7\n",
    "sol.twoSum(nums,target)"
   ]
  },
  {
   "cell_type": "code",
   "execution_count": 11,
   "id": "1e62f5be",
   "metadata": {},
   "outputs": [
    {
     "data": {
      "text/plain": [
       "[0, 3]"
      ]
     },
     "execution_count": 11,
     "metadata": {},
     "output_type": "execute_result"
    }
   ],
   "source": [
    "#Hash Map(One Pass) Method\n",
    "class Solution:\n",
    "    def twoSum(self, nums, target) :\n",
    "        prevMap = {}  # val -> index\n",
    "\n",
    "        for i, n in enumerate(nums):\n",
    "            diff = target - n\n",
    "            if diff in prevMap:\n",
    "                return [prevMap[diff], i]\n",
    "            prevMap[n] = i\n",
    "sol=Solution()\n",
    "nums = [3,5,6,4]\n",
    "target = 7\n",
    "sol.twoSum(nums,target)"
   ]
  }
 ],
 "metadata": {
  "kernelspec": {
   "display_name": "Python 3",
   "language": "python",
   "name": "python3"
  },
  "language_info": {
   "codemirror_mode": {
    "name": "ipython",
    "version": 3
   },
   "file_extension": ".py",
   "mimetype": "text/x-python",
   "name": "python",
   "nbconvert_exporter": "python",
   "pygments_lexer": "ipython3",
   "version": "3.11.9"
  }
 },
 "nbformat": 4,
 "nbformat_minor": 5
}
