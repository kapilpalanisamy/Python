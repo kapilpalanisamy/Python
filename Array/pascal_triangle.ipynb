{
 "cells": [
  {
   "cell_type": "code",
   "execution_count": null,
   "id": "fc1d0d70",
   "metadata": {},
   "outputs": [
    {
     "name": "stdout",
     "output_type": "stream",
     "text": [
      "1\n"
     ]
    }
   ],
   "source": [
    "#given row and column find the elemnent at that place \n",
    "def ncr(r,c):\n",
    "    res=1\n",
    "    for i in range(c):\n",
    "        res=res*(r-i)//(i+1)\n",
    "    return res\n",
    "r=10\n",
    "c=10\n",
    "print(ncr(r,c))\n",
    "#time O(r)\n",
    "#space O(1)"
   ]
  },
  {
   "cell_type": "code",
   "execution_count": null,
   "id": "e0f1dd80",
   "metadata": {},
   "outputs": [],
   "source": [
    "#pascal's triangle \n",
    "ans=[]\n",
    "for i in range(1,n):\n",
    "    temp=[]\n",
    "    for row in range(1,n)"
   ]
  }
 ],
 "metadata": {
  "kernelspec": {
   "display_name": "Python 3",
   "language": "python",
   "name": "python3"
  },
  "language_info": {
   "codemirror_mode": {
    "name": "ipython",
    "version": 3
   },
   "file_extension": ".py",
   "mimetype": "text/x-python",
   "name": "python",
   "nbconvert_exporter": "python",
   "pygments_lexer": "ipython3",
   "version": "3.11.9"
  }
 },
 "nbformat": 4,
 "nbformat_minor": 5
}
