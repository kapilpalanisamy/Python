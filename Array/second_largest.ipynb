{
 "cells": [
  {
   "cell_type": "code",
   "execution_count": 4,
   "id": "22b60316",
   "metadata": {},
   "outputs": [
    {
     "name": "stdout",
     "output_type": "stream",
     "text": [
      "2\n"
     ]
    }
   ],
   "source": [
    "#brute force approach\n",
    "arr=[1,2,4,5,3,5]\n",
    "arr.sort()\n",
    "largest=arr[len(arr)-1]\n",
    "for i in range(len(arr)-1,0,-1):\n",
    "    if arr[i]!=largest:\n",
    "        second=arr[i]\n",
    "print(second)"
   ]
  },
  {
   "cell_type": "code",
   "execution_count": 6,
   "id": "05b6ac7c",
   "metadata": {},
   "outputs": [
    {
     "name": "stdout",
     "output_type": "stream",
     "text": [
      "5\n",
      "4\n"
     ]
    }
   ],
   "source": [
    "arr=[1,2,4,3,5]\n",
    "largest=arr[0]\n",
    "for i in range(1,len(arr)):\n",
    "    if arr[i]>largest:\n",
    "        largest=arr[i]\n",
    "print(largest)\n",
    "smallest=-1\n",
    "for j in range(len(arr)):\n",
    "    if arr[j]>smallest and arr[j]!=largest:\n",
    "        smallest=arr[j]\n",
    "print(smallest)"
   ]
  },
  {
   "cell_type": "code",
   "execution_count": 7,
   "id": "d865d02f",
   "metadata": {},
   "outputs": [
    {
     "name": "stdout",
     "output_type": "stream",
     "text": [
      "5\n",
      "4\n"
     ]
    }
   ],
   "source": [
    "#optimal\n",
    "arr=[1,2,4,3,5]\n",
    "largest=arr[0]\n",
    "slargest=-1\n",
    "for i in range(1,len(arr)):\n",
    "    if arr[i]>largest:\n",
    "        slargest=largest\n",
    "        largest=arr[i]\n",
    "    if arr[i]<largest and arr[i]>slargest:\n",
    "        slargest=arr[i]\n",
    "print(largest)\n",
    "print(slargest)"
   ]
  },
  {
   "cell_type": "code",
   "execution_count": null,
   "id": "f6325e23",
   "metadata": {},
   "outputs": [],
   "source": [
    "arr = [1, 2, 4, 3, 5]\n",
    "\n",
    "smallest = float('inf')\n",
    "second_smallest = float('inf')\n",
    "\n",
    "for num in arr:\n",
    "    if num < smallest:\n",
    "        second_smallest = smallest\n",
    "        smallest = num\n",
    "    elif num < second_smallest and num != smallest:\n",
    "        second_smallest = num\n",
    "\n",
    "if second_smallest == float('inf'):\n",
    "    print(\"No second smallest element\")\n",
    "else:\n",
    "    print(\"Smallest:\", smallest)\n",
    "    print(\"Second smallest:\", second_smallest)\n"
   ]
  }
 ],
 "metadata": {
  "kernelspec": {
   "display_name": "Python 3",
   "language": "python",
   "name": "python3"
  },
  "language_info": {
   "codemirror_mode": {
    "name": "ipython",
    "version": 3
   },
   "file_extension": ".py",
   "mimetype": "text/x-python",
   "name": "python",
   "nbconvert_exporter": "python",
   "pygments_lexer": "ipython3",
   "version": "3.11.9"
  }
 },
 "nbformat": 4,
 "nbformat_minor": 5
}
