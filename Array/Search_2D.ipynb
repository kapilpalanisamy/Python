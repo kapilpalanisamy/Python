{
 "cells": [
  {
   "cell_type": "code",
   "execution_count": 4,
   "id": "5774c758",
   "metadata": {},
   "outputs": [
    {
     "name": "stdout",
     "output_type": "stream",
     "text": [
      "True\n"
     ]
    }
   ],
   "source": [
    "#naive\n",
    "#sorted\n",
    "def main():\n",
    "    matrix = [[1,3,5,7],[10,11,16,20],[23,30,34,60]]\n",
    "    target = 3\n",
    "    n=len(matrix)\n",
    "    m=len(matrix[0])\n",
    "    for i in range(n):\n",
    "        for j in range(m):\n",
    "            if matrix[i][j]==target:\n",
    "                return True\n",
    "    return False\n",
    "if __name__==\"__main__\":\n",
    "    sol=main()\n",
    "    print(sol)"
   ]
  },
  {
   "cell_type": "code",
   "execution_count": 6,
   "id": "4c5b4ee8",
   "metadata": {},
   "outputs": [
    {
     "name": "stdout",
     "output_type": "stream",
     "text": [
      "True\n"
     ]
    }
   ],
   "source": [
    "#better check the first and the last element \n",
    "def main():\n",
    "    matrix = [[1,3,5,7],[10,11,16,20],[23,30,34,60]]\n",
    "    target = 3\n",
    "    n=len(matrix)\n",
    "    m=len(matrix[0])\n",
    "    for i in range(n):\n",
    "        if matrix[i][0]<=target and target<=matrix[i][m-1]:\n",
    "            return bs(matrix[i],target)\n",
    "\n",
    "def bs(arr,target):\n",
    "    lp=0\n",
    "    rp=len(arr)-1\n",
    "    while lp<rp:\n",
    "        mid = (lp + rp) // 2\n",
    "        if arr[mid] == target:\n",
    "            return True\n",
    "        elif arr[mid] < target:\n",
    "            lp = mid + 1\n",
    "        else:\n",
    "            rp = mid - 1\n",
    "    return False\n",
    "if __name__==\"__main__\":\n",
    "    sol=main()\n",
    "    print(sol)\n",
    "#time O(n)+ logm\n",
    "#space O(1)"
   ]
  },
  {
   "cell_type": "code",
   "execution_count": 4,
   "id": "08defd14",
   "metadata": {},
   "outputs": [
    {
     "name": "stdout",
     "output_type": "stream",
     "text": [
      "True\n"
     ]
    }
   ],
   "source": [
    "#better image flatten \n",
    "#row = /m\n",
    "#col = %m\n",
    "def main():\n",
    "    matrix = [[1,3,5,7],[10,11,16,20],[23,30,34,60]]\n",
    "    target = 3\n",
    "    n=len(matrix)\n",
    "    m=len(matrix[0])\n",
    "    low=0\n",
    "    high=(n*m-1)\n",
    "    while (low<= high):\n",
    "        mid=(low+high)//2\n",
    "        row=mid//m\n",
    "        col=mid%m\n",
    "        if matrix[row][col]==target:\n",
    "            return True\n",
    "        elif matrix[row][col]<target:\n",
    "            low=mid+1\n",
    "        else:\n",
    "            high = mid-1\n",
    "    return False\n",
    "if __name__==\"__main__\":\n",
    "    sol=main()\n",
    "    print(sol)"
   ]
  },
  {
   "cell_type": "code",
   "execution_count": null,
   "id": "d49fbdd3",
   "metadata": {},
   "outputs": [],
   "source": []
  }
 ],
 "metadata": {
  "kernelspec": {
   "display_name": "base",
   "language": "python",
   "name": "python3"
  },
  "language_info": {
   "codemirror_mode": {
    "name": "ipython",
    "version": 3
   },
   "file_extension": ".py",
   "mimetype": "text/x-python",
   "name": "python",
   "nbconvert_exporter": "python",
   "pygments_lexer": "ipython3",
   "version": "3.13.5"
  }
 },
 "nbformat": 4,
 "nbformat_minor": 5
}
