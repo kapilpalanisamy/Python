{
 "cells": [
  {
   "cell_type": "code",
   "execution_count": 6,
   "id": "5aae8a42",
   "metadata": {},
   "outputs": [
    {
     "name": "stdout",
     "output_type": "stream",
     "text": [
      "amanaplanacanalpanama\n",
      "True\n"
     ]
    }
   ],
   "source": [
    "#valid palindrome\n",
    "#brute force approach\n",
    "s = \"A man, a plan, a canal: Panama\"\n",
    "s1=\"\".join(i.lower() for i in s if i.isalnum())\n",
    "print(s1)\n",
    "print(s1==s1[::-1])\n"
   ]
  },
  {
   "cell_type": "code",
   "execution_count": null,
   "id": "d40708c5",
   "metadata": {},
   "outputs": [
    {
     "name": "stdout",
     "output_type": "stream",
     "text": [
      "amanaplanacanalpanama\n",
      "True\n"
     ]
    }
   ],
   "source": [
    "#better\n",
    "s = \"A man, a plan, a canal: Panama\"\n",
    "def valid(s):\n",
    "    s1=\"\".join(i.lower() for i in s if i.isalnum())\n",
    "    print(s1)\n",
    "    lp=0\n",
    "    rp=len(s1)-1\n",
    "    while lp<rp:\n",
    "        if s1[lp]!=s1[rp]:\n",
    "            return False\n",
    "        lp+=1\n",
    "        rp-=1\n",
    "    return True\n",
    "sol=valid(s)\n",
    "print(sol)\n",
    "#Time = O(n)\n",
    "#Space = O(n)             "
   ]
  },
  {
   "cell_type": "code",
   "execution_count": null,
   "id": "24ad4a75",
   "metadata": {},
   "outputs": [
    {
     "name": "stdout",
     "output_type": "stream",
     "text": [
      "A man, a plan, a canal: Panama\n",
      "True\n"
     ]
    }
   ],
   "source": [
    "#optimal\n",
    "s = \"A man, a plan, a canal: Panama\"\n",
    "def valid(s):\n",
    "    print(s)\n",
    "    lp=0\n",
    "    rp=len(s)-1\n",
    "    while lp<rp:\n",
    "        while lp<rp and not s[lp].isalnum():\n",
    "            lp+=1\n",
    "        while lp<rp and not s[rp].isalnum():\n",
    "            rp-=1    \n",
    "        if s[lp].lower()!=s[rp].lower():\n",
    "            return False\n",
    "        lp+=1\n",
    "        rp-=1\n",
    "    return True\n",
    "sol=valid(s)\n",
    "print(sol)\n",
    "#Time = O(n)\n",
    "#Space = O(1)"
   ]
  },
  {
   "cell_type": "code",
   "execution_count": 19,
   "id": "9d7a8027",
   "metadata": {},
   "outputs": [
    {
     "name": "stdout",
     "output_type": "stream",
     "text": [
      "1221\n",
      "True\n"
     ]
    }
   ],
   "source": [
    "#number\n",
    "num=1221\n",
    "num1=str(num)\n",
    "print(num1)\n",
    "print(num1==num1[::-1])"
   ]
  },
  {
   "cell_type": "code",
   "execution_count": 21,
   "id": "89bccb83",
   "metadata": {},
   "outputs": [
    {
     "name": "stdout",
     "output_type": "stream",
     "text": [
      "False\n"
     ]
    }
   ],
   "source": [
    "#other approach\n",
    "def rev_num(num):\n",
    "    rev=0\n",
    "    while num!=0:\n",
    "        digit=num%10\n",
    "        rev=rev*10+digit\n",
    "        num//=10\n",
    "    return rev\n",
    "num=1223\n",
    "print(num==rev_num(num))"
   ]
  },
  {
   "cell_type": "code",
   "execution_count": null,
   "id": "f0b74458",
   "metadata": {},
   "outputs": [],
   "source": []
  }
 ],
 "metadata": {
  "kernelspec": {
   "display_name": "base",
   "language": "python",
   "name": "python3"
  },
  "language_info": {
   "codemirror_mode": {
    "name": "ipython",
    "version": 3
   },
   "file_extension": ".py",
   "mimetype": "text/x-python",
   "name": "python",
   "nbconvert_exporter": "python",
   "pygments_lexer": "ipython3",
   "version": "3.13.5"
  }
 },
 "nbformat": 4,
 "nbformat_minor": 5
}
