{
 "cells": [
  {
   "cell_type": "code",
   "execution_count": null,
   "id": "6bba24fe",
   "metadata": {},
   "outputs": [
    {
     "ename": "IndexError",
     "evalue": "list index out of range",
     "output_type": "error",
     "traceback": [
      "\u001b[1;31m---------------------------------------------------------------------------\u001b[0m",
      "\u001b[1;31mIndexError\u001b[0m                                Traceback (most recent call last)",
      "Cell \u001b[1;32mIn[4], line 9\u001b[0m\n\u001b[0;32m      7\u001b[0m start\u001b[38;5;241m=\u001b[39marr[i][\u001b[38;5;241m0\u001b[39m]\n\u001b[0;32m      8\u001b[0m end\u001b[38;5;241m=\u001b[39marr[i][\u001b[38;5;241m1\u001b[39m]\n\u001b[1;32m----> 9\u001b[0m \u001b[38;5;28;01mif\u001b[39;00m \u001b[38;5;129;01mnot\u001b[39;00m ans \u001b[38;5;129;01mand\u001b[39;00m end\u001b[38;5;241m<\u001b[39m\u001b[38;5;241m=\u001b[39m\u001b[43mans\u001b[49m\u001b[43m[\u001b[49m\u001b[38;5;241;43m-\u001b[39;49m\u001b[38;5;241;43m1\u001b[39;49m\u001b[43m]\u001b[49m[\u001b[38;5;241m1\u001b[39m]:\n\u001b[0;32m     10\u001b[0m     \u001b[38;5;28;01mcontinue\u001b[39;00m\n\u001b[0;32m     12\u001b[0m \u001b[38;5;28;01mfor\u001b[39;00m j \u001b[38;5;129;01min\u001b[39;00m \u001b[38;5;28mrange\u001b[39m(i\u001b[38;5;241m+\u001b[39m\u001b[38;5;241m1\u001b[39m,n):\n",
      "\u001b[1;31mIndexError\u001b[0m: list index out of range"
     ]
    }
   ],
   "source": [
    "arr = [[1,3],[2,6],[8,10],[15,18],[2,4]]\n",
    "\n",
    "n=len(arr)\n",
    "arr.sort()\n",
    "ans=[]\n",
    "for i in range(n):\n",
    "    start=arr[i][0]\n",
    "    end=arr[i][1]\n",
    "    if not ans and end<=ans[-1][1]:\n",
    "        continue\n",
    "\n",
    "    for j in range(i+1,n):\n",
    "        if arr[j][0]<end:\n",
    "            end=max(end,arr[j][1])\n",
    "    ans.append([start,end])\n",
    "print(ans)\n",
    "\n",
    "\n"
   ]
  },
  {
   "cell_type": "code",
   "execution_count": 2,
   "id": "32647270",
   "metadata": {},
   "outputs": [
    {
     "name": "stdout",
     "output_type": "stream",
     "text": [
      "[[1, 6], [8, 10], [15, 18]]\n"
     ]
    }
   ],
   "source": [
    "#optimal\n",
    "arr = [[1,3],[2,6],[8,10],[15,18],[2,4]]\n",
    "arr.sort()\n",
    "ans=[]\n",
    "for i in arr:\n",
    "    if not ans or ans[-1][1]<i[0]:\n",
    "        ans.append(i)\n",
    "    else:\n",
    "        ans[-1][1]=max(ans[-1][1],i[1])\n",
    "print(ans) "
   ]
  },
  {
   "cell_type": "code",
   "execution_count": null,
   "id": "b44e423f",
   "metadata": {},
   "outputs": [],
   "source": []
  }
 ],
 "metadata": {
  "kernelspec": {
   "display_name": "Python 3",
   "language": "python",
   "name": "python3"
  },
  "language_info": {
   "codemirror_mode": {
    "name": "ipython",
    "version": 3
   },
   "file_extension": ".py",
   "mimetype": "text/x-python",
   "name": "python",
   "nbconvert_exporter": "python",
   "pygments_lexer": "ipython3",
   "version": "3.11.9"
  }
 },
 "nbformat": 4,
 "nbformat_minor": 5
}
