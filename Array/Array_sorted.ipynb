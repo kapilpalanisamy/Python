{
 "cells": [
  {
   "cell_type": "code",
   "execution_count": null,
   "id": "b36bede0",
   "metadata": {},
   "outputs": [
    {
     "name": "stdout",
     "output_type": "stream",
     "text": [
      "True\n"
     ]
    }
   ],
   "source": [
    "#check if the array is sorted \n",
    "arr=[1,2,2,3,3,4]\n",
    "def sort_arr(arr):\n",
    "    for i in range(1,len(arr)):\n",
    "        if arr[i]>=arr[i-1]:\n",
    "            pass\n",
    "        else:\n",
    "            return False\n",
    "    return True\n",
    "a=sort_arr(arr)\n",
    "print(a)\n",
    "#time O(n)"
   ]
  }
 ],
 "metadata": {
  "kernelspec": {
   "display_name": "Python 3",
   "language": "python",
   "name": "python3"
  },
  "language_info": {
   "codemirror_mode": {
    "name": "ipython",
    "version": 3
   },
   "file_extension": ".py",
   "mimetype": "text/x-python",
   "name": "python",
   "nbconvert_exporter": "python",
   "pygments_lexer": "ipython3",
   "version": "3.11.9"
  }
 },
 "nbformat": 4,
 "nbformat_minor": 5
}
