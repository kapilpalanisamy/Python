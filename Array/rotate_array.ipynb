{
 "cells": [
  {
   "cell_type": "code",
   "execution_count": null,
   "id": "0f81996a",
   "metadata": {},
   "outputs": [],
   "source": [
    "class Solution:\n",
    "    def rotate(self, nums: List[int], k: int) -> None:\n",
    "        n = len(nums)\n",
    "        k %= n  # handle k > n\n",
    "        self.reverse(nums, 0, n - 1)\n",
    "        self.reverse(nums, 0, k - 1)\n",
    "        self.reverse(nums, k, n - 1)\n",
    "\n",
    "    def reverse(self, arr: List[int], start: int, end: int) -> None:\n",
    "        while start < end:\n",
    "            arr[start], arr[end] = arr[end], arr[start]\n",
    "            start += 1\n",
    "            end -= 1"
   ]
  }
 ],
 "metadata": {
  "language_info": {
   "name": "python"
  }
 },
 "nbformat": 4,
 "nbformat_minor": 5
}
