{
 "cells": [
  {
   "cell_type": "code",
   "execution_count": null,
   "id": "0f81996a",
   "metadata": {},
   "outputs": [],
   "source": [
    "class Solution:\n",
    "    def rotate(self, nums: List[int], k: int) -> None:\n",
    "        n = len(nums)\n",
    "        k %= n  # handle k > n\n",
    "        self.reverse(nums, 0, n - 1)\n",
    "        self.reverse(nums, 0, k - 1)\n",
    "        self.reverse(nums, k, n - 1)\n",
    "\n",
    "    def reverse(self, arr: List[int], start: int, end: int) -> None:\n",
    "        while start < end:\n",
    "            arr[start], arr[end] = arr[end], arr[start]\n",
    "            start += 1\n",
    "            end -= 1"
   ]
  },
  {
   "cell_type": "code",
   "execution_count": null,
   "id": "80e41dcd",
   "metadata": {},
   "outputs": [
    {
     "name": "stdout",
     "output_type": "stream",
     "text": [
      "[2, 3, 4, 5, 1]\n"
     ]
    }
   ],
   "source": [
    "#rotate array by one place\n",
    "arr=[1,2,3,4,5]\n",
    "temp=arr[0]\n",
    "for i in range(1,len(arr)):\n",
    "    arr[i-1]=arr[i]\n",
    "arr[len(arr)-1]=temp\n",
    "print(arr)\n",
    "#time O(n)\n",
    "#space O(1)"
   ]
  },
  {
   "cell_type": "code",
   "execution_count": null,
   "id": "efa71d54",
   "metadata": {},
   "outputs": [
    {
     "name": "stdout",
     "output_type": "stream",
     "text": [
      "[4, 5, 6, 7, 1, 2, 3]\n"
     ]
    }
   ],
   "source": [
    "#left rotate by the array by d places\n",
    "#brute force\n",
    "arr=[1,2,3,4,5,6,7]\n",
    "d=3\n",
    "temp=[1,2,3] # arr[:d]\n",
    "for i in range(d,len(arr)):\n",
    "    arr[i-d]=arr[i]\n",
    "\n",
    "for j in range(len(temp)):\n",
    "    arr[len(arr)-d+j]=temp[j]\n",
    "\n",
    "print(arr)\n",
    "#time O(d)+O(n-d)+O(d) = O(d)\n",
    "#space O(d)"
   ]
  },
  {
   "cell_type": "code",
   "execution_count": 11,
   "id": "5dfb4519",
   "metadata": {},
   "outputs": [
    {
     "name": "stdout",
     "output_type": "stream",
     "text": [
      "[5, 6, 7, 4, 1, 2, 3]\n"
     ]
    }
   ],
   "source": [
    "#optimal\n",
    "#time o(d)+o(n-d)+o(n) = o(2n)\n",
    "#space o(1)\n",
    "def rotate(arr,k):\n",
    "    n= len(arr)\n",
    "    reverse(arr,0,k-1)\n",
    "    reverse(arr,n-k,n-1)\n",
    "    reverse(arr,0,n-1)\n",
    "    return arr\n",
    "\n",
    "\n",
    "def reverse(arr,start,end):\n",
    "    while start<end:\n",
    "        arr[start],arr[end]=arr[end],arr[start]\n",
    "        start+=1\n",
    "        end-=1\n",
    "\n",
    "arr=[1,2,3,4,5,6,7]\n",
    "d=3\n",
    "sol=rotate(arr,d)\n",
    "print(sol)"
   ]
  },
  {
   "cell_type": "code",
   "execution_count": null,
   "id": "8eb73d52",
   "metadata": {},
   "outputs": [],
   "source": []
  }
 ],
 "metadata": {
  "kernelspec": {
   "display_name": "Python 3",
   "language": "python",
   "name": "python3"
  },
  "language_info": {
   "codemirror_mode": {
    "name": "ipython",
    "version": 3
   },
   "file_extension": ".py",
   "mimetype": "text/x-python",
   "name": "python",
   "nbconvert_exporter": "python",
   "pygments_lexer": "ipython3",
   "version": "3.11.9"
  }
 },
 "nbformat": 4,
 "nbformat_minor": 5
}
