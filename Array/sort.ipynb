{
 "cells": [
  {
   "cell_type": "code",
   "execution_count": null,
   "id": "b99f3290",
   "metadata": {},
   "outputs": [
    {
     "name": "stdout",
     "output_type": "stream",
     "text": [
      "[0, 1, 2, 3, 4, 5]\n"
     ]
    }
   ],
   "source": [
    "#bubble sort or sinking sort - go linearly \n",
    "arr=[1,4,5,3,2,0]\n",
    "for i in range(0,len(arr)):\n",
    "    for j in range(0,len(arr)-1):\n",
    "        if arr[j+1]<arr[j]:\n",
    "            arr[j],arr[j+1]=arr[j+1],arr[j]\n",
    "print(arr)"
   ]
  },
  {
   "cell_type": "code",
   "execution_count": null,
   "id": "24a463e4",
   "metadata": {},
   "outputs": [
    {
     "name": "stdout",
     "output_type": "stream",
     "text": [
      "[0, 2, 3, 5, 4, 1]\n"
     ]
    }
   ],
   "source": [
    "#selection sort uses min\n",
    "arr=[1,4,5,3,2,0]\n",
    "for i in range(len(arr)):\n",
    "    min_idx = i  # Store index of minimum element\n",
    "    for j in range(i+1, len(arr)):\n",
    "        if arr[j] < arr[min_idx]:  # Compare values, not indices\n",
    "            min_idx = j\n",
    "    # Swap only if minimum element is found\n",
    "    arr[i], arr[min_idx] = arr[min_idx], arr[i]\n",
    "\n",
    "print(arr)"
   ]
  },
  {
   "cell_type": "code",
   "execution_count": 10,
   "id": "596d3640",
   "metadata": {},
   "outputs": [
    {
     "name": "stdout",
     "output_type": "stream",
     "text": [
      "[0, 1, 2, 3, 4, 5]\n"
     ]
    }
   ],
   "source": [
    "#insertion space - used key\n",
    "arr=[1,4,5,3,2,0]\n",
    "for i in range(1,len(arr)):\n",
    "    key=arr[i]\n",
    "    j=i-1\n",
    "    while j>=0 and key<arr[j]:\n",
    "        arr[j+1]=arr[j]\n",
    "        j-=1\n",
    "    arr[j+1]=key\n",
    "print(arr)"
   ]
  },
  {
   "cell_type": "code",
   "execution_count": null,
   "id": "8d6432c5",
   "metadata": {},
   "outputs": [
    {
     "name": "stdout",
     "output_type": "stream",
     "text": [
      "[0, 1, 2, 3, 4, 5]\n"
     ]
    }
   ],
   "source": [
    "# Merge Sort - Divide and Conquer Method\n",
    "def mergesort(arr):\n",
    "    if len(arr) > 1:\n",
    "        m = len(arr) // 2\n",
    "        left = arr[:m]\n",
    "        right = arr[m:]\n",
    "\n",
    "        # Recursive calls\n",
    "        left = mergesort(left)\n",
    "        right = mergesort(right)\n",
    "\n",
    "        lp = rp = fp = 0\n",
    "\n",
    "        # Merge step\n",
    "        while lp < len(left) and rp < len(right):\n",
    "            if left[lp] < right[rp]:\n",
    "                arr[fp] = left[lp]\n",
    "                lp += 1\n",
    "            else:\n",
    "                arr[fp] = right[rp]\n",
    "                rp += 1\n",
    "            fp += 1\n",
    "\n",
    "        # Copy remaining elements\n",
    "        while lp < len(left):\n",
    "            arr[fp] = left[lp]\n",
    "            lp += 1\n",
    "            fp += 1\n",
    "\n",
    "        while rp < len(right):\n",
    "            arr[fp] = right[rp]   \n",
    "            rp += 1\n",
    "            fp += 1\n",
    "    \n",
    "    return arr   \n",
    "\n",
    "arr = [1, 4, 5, 3, 2, 0]\n",
    "sorted_arr = mergesort(arr)\n",
    "print(sorted_arr)\n"
   ]
  },
  {
   "cell_type": "code",
   "execution_count": 5,
   "id": "363ca019",
   "metadata": {},
   "outputs": [
    {
     "name": "stdout",
     "output_type": "stream",
     "text": [
      "[0, 1, 2, 3, 4, 5]\n"
     ]
    }
   ],
   "source": [
    "#quick sort pivot element\n",
    "import random\n",
    "def quicksort(arr):\n",
    "    if len(arr) <= 1: \n",
    "        return arr\n",
    "    pivot=random.choice(arr)\n",
    "    left=[]\n",
    "    right=[]\n",
    "    middle=[]\n",
    "    for i in arr:\n",
    "        if i<pivot:\n",
    "            left.append(i)\n",
    "        elif i>pivot:\n",
    "            right.append(i)\n",
    "        elif i==pivot:\n",
    "            middle.append(i)\n",
    "    return quicksort(left)+middle+quicksort(right)\n",
    "\n",
    "arr=[1,4,5,3,2,0]\n",
    "a=quicksort(arr)\n",
    "print(a)"
   ]
  }
 ],
 "metadata": {
  "kernelspec": {
   "display_name": "Python 3",
   "language": "python",
   "name": "python3"
  },
  "language_info": {
   "codemirror_mode": {
    "name": "ipython",
    "version": 3
   },
   "file_extension": ".py",
   "mimetype": "text/x-python",
   "name": "python",
   "nbconvert_exporter": "python",
   "pygments_lexer": "ipython3",
   "version": "3.11.9"
  }
 },
 "nbformat": 4,
 "nbformat_minor": 5
}
