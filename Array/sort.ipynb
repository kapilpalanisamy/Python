{
 "cells": [
  {
   "cell_type": "code",
   "execution_count": null,
   "id": "b99f3290",
   "metadata": {},
   "outputs": [
    {
     "name": "stdout",
     "output_type": "stream",
     "text": [
      "[0, 1, 2, 3, 4, 5]\n"
     ]
    }
   ],
   "source": [
    "#bubble sort or sinking sort - go linearly \n",
    "arr=[1,4,5,3,2,0]\n",
    "for i in range(0,len(arr)):\n",
    "    for j in range(0,len(arr)-1):\n",
    "        if arr[j+1]<arr[j]:\n",
    "            arr[j],arr[j+1]=arr[j+1],arr[j]\n",
    "print(arr)"
   ]
  },
  {
   "cell_type": "code",
   "execution_count": 9,
   "id": "24a463e4",
   "metadata": {},
   "outputs": [
    {
     "name": "stdout",
     "output_type": "stream",
     "text": [
      "[0, 2, 3, 5, 4, 1]\n"
     ]
    }
   ],
   "source": [
    "#selection sort uses min\n",
    "arr=[1,4,5,3,2,0]\n",
    "for i in range(len(arr)):\n",
    "    min=i\n",
    "    for j in range(i+1,len(arr)):\n",
    "        if arr[j]<min:\n",
    "            min=j\n",
    "        arr[i],arr[j]=arr[j],arr[i]\n",
    "\n",
    "print(arr)"
   ]
  },
  {
   "cell_type": "code",
   "execution_count": 10,
   "id": "596d3640",
   "metadata": {},
   "outputs": [
    {
     "name": "stdout",
     "output_type": "stream",
     "text": [
      "[0, 1, 2, 3, 4, 5]\n"
     ]
    }
   ],
   "source": [
    "#insertion space - used key\n",
    "arr=[1,4,5,3,2,0]\n",
    "for i in range(1,len(arr)):\n",
    "    key=arr[i]\n",
    "    j=i-1\n",
    "    while j>=0 and key<arr[j]:\n",
    "        arr[j+1]=arr[j]\n",
    "        j-=1\n",
    "    arr[j+1]=key\n",
    "print(arr)"
   ]
  },
  {
   "cell_type": "code",
   "execution_count": null,
   "id": "8d6432c5",
   "metadata": {},
   "outputs": [],
   "source": [
    "#merge sort - divide and conquer method\n"
   ]
  }
 ],
 "metadata": {
  "kernelspec": {
   "display_name": "Python 3",
   "language": "python",
   "name": "python3"
  },
  "language_info": {
   "codemirror_mode": {
    "name": "ipython",
    "version": 3
   },
   "file_extension": ".py",
   "mimetype": "text/x-python",
   "name": "python",
   "nbconvert_exporter": "python",
   "pygments_lexer": "ipython3",
   "version": "3.11.9"
  }
 },
 "nbformat": 4,
 "nbformat_minor": 5
}
