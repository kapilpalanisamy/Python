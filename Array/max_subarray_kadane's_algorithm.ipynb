{
 "cells": [
  {
   "cell_type": "code",
   "execution_count": null,
   "id": "f992da52",
   "metadata": {},
   "outputs": [
    {
     "name": "stdout",
     "output_type": "stream",
     "text": [
      "23\n"
     ]
    }
   ],
   "source": [
    "# brute force approach\n",
    "arr = [5, 4, -1, 7, 8]\n",
    "max1 = float('-inf')\n",
    "for i in range(len(arr)):\n",
    "    for j in range(i, len(arr)):\n",
    "        sum_1 = sum(arr[i:j+1])\n",
    "        max1 = max(max1, sum_1)\n",
    "print(max1)\n"
   ]
  },
  {
   "cell_type": "code",
   "execution_count": 13,
   "id": "643a2610",
   "metadata": {},
   "outputs": [
    {
     "name": "stdout",
     "output_type": "stream",
     "text": [
      "23\n"
     ]
    }
   ],
   "source": [
    "#better\n",
    "arr = [5, 4, -1, 7, 8]\n",
    "max1 = float('-inf')\n",
    "for i in range(len(arr)):\n",
    "    sum1=0\n",
    "    for j in range(i, len(arr)):\n",
    "        sum1 += arr[j]\n",
    "        max1 = max(max1, sum1)\n",
    "print(max1)\n"
   ]
  },
  {
   "cell_type": "code",
   "execution_count": null,
   "id": "05e1423f",
   "metadata": {},
   "outputs": [
    {
     "name": "stdout",
     "output_type": "stream",
     "text": [
      "23\n"
     ]
    }
   ],
   "source": [
    "#better\n",
    "arr = [5,4,-1,7,8]\n",
    "max1=float('-inf')\n",
    "\n",
    "for i in range(len(arr)):\n",
    "    total=0\n",
    "    for j in range(i,len(arr)):\n",
    "        if arr[j]<0 and total-arr[j]>0:\n",
    "            total += arr[j]\n",
    "        else:\n",
    "            total +=arr[j]\n",
    "        max1=max(max1,total)\n",
    "print(max1)"
   ]
  },
  {
   "cell_type": "code",
   "execution_count": null,
   "id": "903d1664",
   "metadata": {},
   "outputs": [
    {
     "name": "stdout",
     "output_type": "stream",
     "text": [
      "23\n"
     ]
    }
   ],
   "source": [
    "#kadane's algorithm\n",
    "arr = [5,4,-1,7,8]\n",
    "max1=float('-inf')\n",
    "total=0\n",
    "for i in range(len(arr)):\n",
    "    total += arr[i]\n",
    "    if total>max1:\n",
    "        max1=max(max1,total)\n",
    "    if total<0:\n",
    "        total=0\n",
    "if max1==0:\n",
    "    print(0)\n",
    "else:\n",
    "    print(max1)"
   ]
  },
  {
   "cell_type": "code",
   "execution_count": null,
   "id": "15d7b2e2",
   "metadata": {},
   "outputs": [],
   "source": []
  }
 ],
 "metadata": {
  "kernelspec": {
   "display_name": "Python 3",
   "language": "python",
   "name": "python3"
  },
  "language_info": {
   "codemirror_mode": {
    "name": "ipython",
    "version": 3
   },
   "file_extension": ".py",
   "mimetype": "text/x-python",
   "name": "python",
   "nbconvert_exporter": "python",
   "pygments_lexer": "ipython3",
   "version": "3.11.9"
  }
 },
 "nbformat": 4,
 "nbformat_minor": 5
}
