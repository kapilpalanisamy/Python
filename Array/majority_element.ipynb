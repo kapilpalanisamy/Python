{
 "cells": [
  {
   "cell_type": "code",
   "execution_count": 8,
   "id": "5c7e1b88",
   "metadata": {},
   "outputs": [
    {
     "name": "stdout",
     "output_type": "stream",
     "text": [
      "2\n"
     ]
    }
   ],
   "source": [
    "#majority element\n",
    "#>n/2 times\n",
    "#brute force\n",
    "arr=[2,2,3,3,1,2,2]\n",
    "\n",
    "for i in range(len(arr)):\n",
    "    count=0\n",
    "    for j in range(len(arr)):\n",
    "        if arr[j]==arr[i]:\n",
    "            count +=1\n",
    "    if count>len(arr)//2:\n",
    "        print(arr[i])\n",
    "        break\n",
    "#time O(n2)"
   ]
  },
  {
   "cell_type": "code",
   "execution_count": null,
   "id": "4f6144f9",
   "metadata": {},
   "outputs": [
    {
     "name": "stdout",
     "output_type": "stream",
     "text": [
      "2\n"
     ]
    }
   ],
   "source": [
    "#better approach\n",
    "arr=[2,2,3,3,1,2,2]\n",
    "hashmap={}\n",
    "for i in arr:\n",
    "    if i in hashmap:\n",
    "        hashmap[i] +=1\n",
    "    else:\n",
    "        hashmap[i]=1\n",
    "    if hashmap[i]>len(arr)//2:\n",
    "        print(i)\n",
    "        break\n",
    "#time O(n) + O(nlogn)\n",
    "#space O(n)"
   ]
  },
  {
   "cell_type": "code",
   "execution_count": 9,
   "id": "a65b0eec",
   "metadata": {},
   "outputs": [
    {
     "name": "stdout",
     "output_type": "stream",
     "text": [
      "5\n"
     ]
    }
   ],
   "source": [
    "#Moore's Voting Algorithm\n",
    "#verify element is majority or not \n",
    "arr=[7,7,5,7,5,1,5,7,5,5,5,5]\n",
    "count=0\n",
    "majority=0\n",
    "for i in range(len(arr)):\n",
    "    if count==0:\n",
    "        count=1\n",
    "        majority=arr[i]\n",
    "    elif arr[i]==majority:\n",
    "        count+=1\n",
    "    else:\n",
    "        count -=1\n",
    "count1=0\n",
    "for j in range(len(arr)):\n",
    "    if arr[i] == majority:\n",
    "        count1 +=1\n",
    "if count1>len(arr)/2:\n",
    "    print(majority)\n",
    "else:\n",
    "    print('-1')"
   ]
  },
  {
   "cell_type": "code",
   "execution_count": null,
   "id": "776c59fa",
   "metadata": {},
   "outputs": [],
   "source": []
  }
 ],
 "metadata": {
  "kernelspec": {
   "display_name": "Python 3",
   "language": "python",
   "name": "python3"
  },
  "language_info": {
   "codemirror_mode": {
    "name": "ipython",
    "version": 3
   },
   "file_extension": ".py",
   "mimetype": "text/x-python",
   "name": "python",
   "nbconvert_exporter": "python",
   "pygments_lexer": "ipython3",
   "version": "3.11.9"
  }
 },
 "nbformat": 4,
 "nbformat_minor": 5
}
