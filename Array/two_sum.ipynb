{
 "cells": [
  {
   "cell_type": "code",
   "execution_count": 2,
   "id": "084ef5f0",
   "metadata": {},
   "outputs": [
    {
     "name": "stdout",
     "output_type": "stream",
     "text": [
      "1 3\n"
     ]
    }
   ],
   "source": [
    "#two sum \n",
    "arr=[2,6,5,8,11]\n",
    "target=14\n",
    "#brute force\n",
    "for i in range(len(arr)):\n",
    "    for j in range(i+1,len(arr)):\n",
    "        if i==j:\n",
    "            continue\n",
    "        if arr[i]+arr[j]==target:\n",
    "            print(i,j)"
   ]
  },
  {
   "cell_type": "code",
   "execution_count": 6,
   "id": "a5da2a0d",
   "metadata": {},
   "outputs": [
    {
     "name": "stdout",
     "output_type": "stream",
     "text": [
      "[1, 3]\n"
     ]
    }
   ],
   "source": [
    "#better \n",
    "#target-num\n",
    "#hashmap\n",
    "arr=[2,6,5,8,11]\n",
    "target=14\n",
    "count={}\n",
    "for i,num in enumerate(arr):\n",
    "    x=target-num\n",
    "    if x in count:\n",
    "        print([count[x],i])\n",
    "    count[num]=i\n"
   ]
  },
  {
   "cell_type": "code",
   "execution_count": null,
   "id": "79e5b890",
   "metadata": {},
   "outputs": [
    {
     "name": "stdout",
     "output_type": "stream",
     "text": [
      "[2, 5, 6, 8, 11]\n",
      "2 3\n"
     ]
    }
   ],
   "source": [
    "#two pointer approach\n",
    "#it works only if sorted \n",
    "arr=[2,6,5,8,11]\n",
    "target=14\n",
    "lptr=0\n",
    "rptr=len(arr)-1\n",
    "arr.sort()\n",
    "while lptr<rptr:\n",
    "    sum1=arr[lptr]+arr[rptr]\n",
    "\n",
    "    if sum1<target:\n",
    "        lptr +=1\n",
    "    if sum1>target:\n",
    "        rptr-=1\n",
    "    if sum1==target:\n",
    "        print(lptr,rptr)\n",
    "        break\n"
   ]
  }
 ],
 "metadata": {
  "kernelspec": {
   "display_name": "Python 3",
   "language": "python",
   "name": "python3"
  },
  "language_info": {
   "codemirror_mode": {
    "name": "ipython",
    "version": 3
   },
   "file_extension": ".py",
   "mimetype": "text/x-python",
   "name": "python",
   "nbconvert_exporter": "python",
   "pygments_lexer": "ipython3",
   "version": "3.11.9"
  }
 },
 "nbformat": 4,
 "nbformat_minor": 5
}
