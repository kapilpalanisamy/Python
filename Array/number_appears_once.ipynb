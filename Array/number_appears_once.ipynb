{
 "cells": [
  {
   "cell_type": "code",
   "execution_count": null,
   "id": "cee07ea9",
   "metadata": {},
   "outputs": [
    {
     "name": "stdout",
     "output_type": "stream",
     "text": [
      "2\n"
     ]
    }
   ],
   "source": [
    "#find the number that appears once and the others twice\n",
    "arr = [1, 1, 2, 3, 3, 4, 4]\n",
    "\n",
    "for i in range(len(arr)):\n",
    "    num = arr[i]\n",
    "    ctr = 0  # reset here\n",
    "    for j in range(len(arr)):\n",
    "        if arr[j] == num:\n",
    "            ctr += 1\n",
    "    if ctr == 1:\n",
    "        print(num)\n",
    "        break   # since only one unique number\n",
    "#time : O(N)"
   ]
  },
  {
   "cell_type": "code",
   "execution_count": null,
   "id": "c536241c",
   "metadata": {},
   "outputs": [
    {
     "name": "stdout",
     "output_type": "stream",
     "text": [
      "4\n",
      "2\n"
     ]
    }
   ],
   "source": [
    "#better\n",
    "arr = [1, 1, 2, 3, 3, 4, 4]\n",
    "hasharr=[0]*(max(arr) + 1)\n",
    "for i in arr:\n",
    "    hasharr[i]+=1\n",
    "for i in range(len(hasharr)):\n",
    "    if hasharr[i]==1:\n",
    "        print(i)\n",
    "#time : O(N)+O(n)"
   ]
  },
  {
   "cell_type": "code",
   "execution_count": 7,
   "id": "198b4ad5",
   "metadata": {},
   "outputs": [
    {
     "name": "stdout",
     "output_type": "stream",
     "text": [
      "{1: 2, 2: 1, 3: 2, 4: 2}\n",
      "2\n"
     ]
    }
   ],
   "source": [
    "#my solution \n",
    "arr = [1, 1, 2, 3, 3, 4, 4]\n",
    "count={}\n",
    "for i in arr:\n",
    "    count[i]=count.get(i,0)+1\n",
    "print(count)\n",
    "for i in arr:\n",
    "    if count[i]==1:\n",
    "        print(i)"
   ]
  },
  {
   "cell_type": "code",
   "execution_count": null,
   "id": "ae823779",
   "metadata": {},
   "outputs": [
    {
     "name": "stdout",
     "output_type": "stream",
     "text": [
      "2\n"
     ]
    }
   ],
   "source": [
    "#xor\n",
    "arr = [1, 1, 2, 3, 3, 4, 4]\n",
    "xor=0\n",
    "for i in range(len(arr)):\n",
    "    xor=xor^arr[i]\n",
    "print(xor)\n",
    "#time : O(N)\n",
    "#space : O(1)"
   ]
  },
  {
   "cell_type": "code",
   "execution_count": null,
   "id": "78537f9a",
   "metadata": {},
   "outputs": [],
   "source": []
  }
 ],
 "metadata": {
  "kernelspec": {
   "display_name": "Python 3",
   "language": "python",
   "name": "python3"
  },
  "language_info": {
   "codemirror_mode": {
    "name": "ipython",
    "version": 3
   },
   "file_extension": ".py",
   "mimetype": "text/x-python",
   "name": "python",
   "nbconvert_exporter": "python",
   "pygments_lexer": "ipython3",
   "version": "3.11.9"
  }
 },
 "nbformat": 4,
 "nbformat_minor": 5
}
