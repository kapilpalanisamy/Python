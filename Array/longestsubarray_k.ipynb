{
 "cells": [
  {
   "cell_type": "code",
   "execution_count": 1,
   "id": "df70f1e4",
   "metadata": {},
   "outputs": [
    {
     "name": "stdout",
     "output_type": "stream",
     "text": [
      "Length of longest subarray with sum 15 is: 4\n"
     ]
    }
   ],
   "source": [
    "#longest subarray with sum k\n",
    "#brute force\n",
    "arr=[10,5,2,7,1,9]\n",
    "target_sum=15\n",
    "n=len(arr)\n",
    "length=0\n",
    "for i in range(n):\n",
    "    for j in range(i,n):\n",
    "        current_sum=0\n",
    "        for k in range(i,j+1):\n",
    "            current_sum+=arr[k]\n",
    "        if current_sum==target_sum:\n",
    "            length=max(length,j-i+1)\n",
    "print(\"Length of longest subarray with sum\", target_sum, \"is:\", length)"
   ]
  },
  {
   "cell_type": "code",
   "execution_count": 2,
   "id": "3c5f3c0a",
   "metadata": {},
   "outputs": [
    {
     "name": "stdout",
     "output_type": "stream",
     "text": [
      "Length of longest subarray with sum 15 is: 4\n"
     ]
    }
   ],
   "source": [
    "#better\n",
    "arr=[10,5,2,7,1,9]\n",
    "target_sum=15\n",
    "n=len(arr)\n",
    "for i in range(n):\n",
    "    s=0\n",
    "    for j in range(i,n):\n",
    "        s+=arr[j]\n",
    "        if s==target_sum:\n",
    "            length=max(length,j-i+1)\n",
    "print(\"Length of longest subarray with sum\", target_sum, \"is:\", length)"
   ]
  },
  {
   "cell_type": "code",
   "execution_count": null,
   "id": "cc98ab57",
   "metadata": {},
   "outputs": [],
   "source": [
    "#better approach using hashmap\n",
    "arr=[10,5,2,7,1,9]\n",
    "target_sum=15"
   ]
  }
 ],
 "metadata": {
  "kernelspec": {
   "display_name": "base",
   "language": "python",
   "name": "python3"
  },
  "language_info": {
   "codemirror_mode": {
    "name": "ipython",
    "version": 3
   },
   "file_extension": ".py",
   "mimetype": "text/x-python",
   "name": "python",
   "nbconvert_exporter": "python",
   "pygments_lexer": "ipython3",
   "version": "3.13.5"
  }
 },
 "nbformat": 4,
 "nbformat_minor": 5
}
