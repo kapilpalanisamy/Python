{
 "cells": [
  {
   "cell_type": "code",
   "execution_count": null,
   "id": "c37197d0",
   "metadata": {},
   "outputs": [
    {
     "name": "stdout",
     "output_type": "stream",
     "text": [
      "True\n"
     ]
    }
   ],
   "source": [
    "#better\n",
    "def reverse_str(st):\n",
    "    if st == \"(\":\n",
    "        return \")\"\n",
    "    if st == \"{\":\n",
    "        return \"}\"\n",
    "    if st == \"[\":\n",
    "        return \"]\"\n",
    "    return \"\"\n",
    "\n",
    "def main(s):\n",
    "    stack = []\n",
    "    for i in s:\n",
    "        if i in \"({[\":\n",
    "            stack.append(reverse_str(i))\n",
    "        else:\n",
    "            if not stack or stack.pop() != i:  # check for empty stack before pop\n",
    "                return False\n",
    "    return not stack  # stack must be empty at the end\n",
    "\n",
    "# Test cases\n",
    "print(main(\"()[]{}\"))  "
   ]
  },
  {
   "cell_type": "code",
   "execution_count": null,
   "id": "b36775a0",
   "metadata": {},
   "outputs": [
    {
     "name": "stdout",
     "output_type": "stream",
     "text": [
      "True\n"
     ]
    }
   ],
   "source": [
    "#optimal\n",
    "def isvalid(s):\n",
    "    pairs = {\")\": \"(\", \"]\": \"[\", \"}\": \"{\"}  \n",
    "    stack = []\n",
    "\n",
    "    for i in s:\n",
    "        if i in \"({[\":\n",
    "            stack.append(i)\n",
    "        else:\n",
    "            if stack:\n",
    "                a=stack.pop()\n",
    "                if a==pairs[i]:\n",
    "                    continue\n",
    "            else:\n",
    "                return False\n",
    "    return not stack\n",
    "sol=isvalid(\"()[]{}\")\n",
    "print(sol)"
   ]
  },
  {
   "cell_type": "code",
   "execution_count": null,
   "id": "80c68e99",
   "metadata": {},
   "outputs": [],
   "source": []
  }
 ],
 "metadata": {
  "kernelspec": {
   "display_name": "base",
   "language": "python",
   "name": "python3"
  },
  "language_info": {
   "codemirror_mode": {
    "name": "ipython",
    "version": 3
   },
   "file_extension": ".py",
   "mimetype": "text/x-python",
   "name": "python",
   "nbconvert_exporter": "python",
   "pygments_lexer": "ipython3",
   "version": "3.13.5"
  }
 },
 "nbformat": 4,
 "nbformat_minor": 5
}
