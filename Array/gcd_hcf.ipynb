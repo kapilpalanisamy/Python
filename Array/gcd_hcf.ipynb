{
 "cells": [
  {
   "cell_type": "code",
   "execution_count": null,
   "id": "9f931699",
   "metadata": {},
   "outputs": [],
   "source": [
    "#gcd/hcf\n",
    "n1=9\n",
    "n2=12\n",
    "gcd=1\n",
    "for i in range(1,min(n1,n2)):\n",
    "    if n1%i==0 and n2%i==0:\n",
    "        gcd=i\n",
    "print(gcd)"
   ]
  },
  {
   "cell_type": "code",
   "execution_count": 1,
   "id": "352923d5",
   "metadata": {},
   "outputs": [
    {
     "name": "stdout",
     "output_type": "stream",
     "text": [
      "3\n"
     ]
    }
   ],
   "source": [
    "#Eucledians algorithm\n",
    "#gcd(a,b)=gcd(a-b,b)\n",
    "#gcd(a,b)=gcd(a%b,b)\n",
    "a=9\n",
    "b=12\n",
    "while a>0 and b>0:\n",
    "    if a>b:\n",
    "        a=a%b\n",
    "    else:\n",
    "        b=b%a\n",
    "if a==0:\n",
    "    print(b)\n",
    "else:\n",
    "    print(a)"
   ]
  },
  {
   "cell_type": "code",
   "execution_count": null,
   "id": "220725ae",
   "metadata": {},
   "outputs": [
    {
     "name": "stdout",
     "output_type": "stream",
     "text": [
      "1\n"
     ]
    }
   ],
   "source": [
    "#recursive\n",
    "def gcd_method(a, b):\n",
    "    if b == 0:\n",
    "        return a\n",
    "    return gcd_method(b, a % b)\n",
    "a=gcd_method(11,12)\n",
    "print(a)"
   ]
  }
 ],
 "metadata": {
  "kernelspec": {
   "display_name": "Python 3",
   "language": "python",
   "name": "python3"
  },
  "language_info": {
   "codemirror_mode": {
    "name": "ipython",
    "version": 3
   },
   "file_extension": ".py",
   "mimetype": "text/x-python",
   "name": "python",
   "nbconvert_exporter": "python",
   "pygments_lexer": "ipython3",
   "version": "3.11.9"
  }
 },
 "nbformat": 4,
 "nbformat_minor": 5
}
