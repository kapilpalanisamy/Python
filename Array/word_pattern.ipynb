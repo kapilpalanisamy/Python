{
 "cells": [
  {
   "cell_type": "code",
   "execution_count": null,
   "id": "e8d46281",
   "metadata": {},
   "outputs": [],
   "source": [
    "#Word Pattern\n",
    "#Input: pattern = \"abba\", s = \"dog cat cat dog\"\n",
    "#Output: true\n",
    "class Solution:\n",
    "    def wordPattern(self, pattern,s):\n",
    "        s=s.split()\n",
    "        if len(pattern)!=len(s):\n",
    "            return False\n",
    "        pattos={}\n",
    "        stopatt={}\n",
    "\n",
    "        for i in range(len(s)):\n",
    "            p=pattern[i]\n",
    "            s1=s[i]\n",
    "\n",
    "            if p in pattos and pattos[p]!=s1:\n",
    "                return False\n",
    "            \n",
    "            if s1 in stopatt and stopatt[s1]!=p:\n",
    "                return False\n",
    "            \n",
    "            pattos[p]=s1\n",
    "            stopatt[s1]=p\n",
    "        return True\n"
   ]
  }
 ],
 "metadata": {
  "language_info": {
   "name": "python"
  }
 },
 "nbformat": 4,
 "nbformat_minor": 5
}
