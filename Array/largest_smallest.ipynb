{
 "cells": [
  {
   "cell_type": "code",
   "execution_count": 1,
   "id": "da8751a0",
   "metadata": {},
   "outputs": [
    {
     "name": "stdout",
     "output_type": "stream",
     "text": [
      "5\n"
     ]
    }
   ],
   "source": [
    "#brute force\n",
    "arr=[1,2,4,3,5]\n",
    "arr.sort()\n",
    "print(arr[len(arr)-1])\n"
   ]
  },
  {
   "cell_type": "code",
   "execution_count": 2,
   "id": "ecc9e2e7",
   "metadata": {},
   "outputs": [
    {
     "name": "stdout",
     "output_type": "stream",
     "text": [
      "5\n"
     ]
    }
   ],
   "source": [
    "arr=[1,2,4,3,5]\n",
    "largest=arr[0]\n",
    "for i in range(1,len(arr)):\n",
    "    if arr[i]>largest:\n",
    "        largest=arr[i]\n",
    "print(largest)"
   ]
  },
  {
   "cell_type": "code",
   "execution_count": null,
   "id": "1768331a",
   "metadata": {},
   "outputs": [],
   "source": []
  }
 ],
 "metadata": {
  "kernelspec": {
   "display_name": "Python 3",
   "language": "python",
   "name": "python3"
  },
  "language_info": {
   "codemirror_mode": {
    "name": "ipython",
    "version": 3
   },
   "file_extension": ".py",
   "mimetype": "text/x-python",
   "name": "python",
   "nbconvert_exporter": "python",
   "pygments_lexer": "ipython3",
   "version": "3.11.9"
  }
 },
 "nbformat": 4,
 "nbformat_minor": 5
}
