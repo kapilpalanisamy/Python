{
 "cells": [
  {
   "cell_type": "code",
   "execution_count": 4,
   "id": "5d8acf1c",
   "metadata": {},
   "outputs": [
    {
     "name": "stdout",
     "output_type": "stream",
     "text": [
      "3\n"
     ]
    }
   ],
   "source": [
    "#remove the duplicates in the array\n",
    "#brute force\n",
    "arr=[1,1,2,2,2,3,3]\n",
    "a=set()\n",
    "for i in arr:\n",
    "    a.add(i)\n",
    "print(len(a))\n",
    "#time complexity = Nlogn + O(n) \n",
    "#space compleity = O(n)"
   ]
  },
  {
   "cell_type": "code",
   "execution_count": null,
   "id": "ca02a4c9",
   "metadata": {},
   "outputs": [
    {
     "name": "stdout",
     "output_type": "stream",
     "text": [
      "3\n"
     ]
    }
   ],
   "source": [
    "#two pointer approach\n",
    "def duplicates(arr):\n",
    "    ptr1=0\n",
    "    ptr2=1\n",
    "    for ptr2 in range(len(arr)):\n",
    "        if arr[ptr2]!=arr[ptr1]:\n",
    "            arr[ptr1+1]=arr[ptr2]\n",
    "            ptr1+=1\n",
    "    return ptr1+1\n",
    "arr=[1,1,2,2,2,3,3]\n",
    "a=duplicates(arr)\n",
    "print(a)\n",
    "#time O(n)"
   ]
  }
 ],
 "metadata": {
  "kernelspec": {
   "display_name": "Python 3",
   "language": "python",
   "name": "python3"
  },
  "language_info": {
   "codemirror_mode": {
    "name": "ipython",
    "version": 3
   },
   "file_extension": ".py",
   "mimetype": "text/x-python",
   "name": "python",
   "nbconvert_exporter": "python",
   "pygments_lexer": "ipython3",
   "version": "3.11.9"
  }
 },
 "nbformat": 4,
 "nbformat_minor": 5
}
