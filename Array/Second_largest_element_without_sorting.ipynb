{
 "cells": [
  {
   "cell_type": "code",
   "execution_count": null,
   "id": "2923392b",
   "metadata": {},
   "outputs": [],
   "source": [
    "#second largets element without sorting "
   ]
  },
  {
   "cell_type": "code",
   "execution_count": null,
   "id": "c281daeb",
   "metadata": {},
   "outputs": [
    {
     "name": "stdout",
     "output_type": "stream",
     "text": [
      "6\n"
     ]
    }
   ],
   "source": [
    "#Brute \n",
    "arr=[3, 1, 4, 1, 5, 9, 2, 6, 5]\n",
    "arr.sort()\n",
    "i=len(arr)-2\n",
    "largest=0\n",
    "while i>=0:\n",
    "    if arr[i]!=largest:\n",
    "        largest=arr[i]\n",
    "        break\n",
    "    i-=1\n",
    "print(largest)\n",
    "#time - NlogN + N"
   ]
  },
  {
   "cell_type": "code",
   "execution_count": null,
   "id": "d3409147",
   "metadata": {},
   "outputs": [
    {
     "name": "stdout",
     "output_type": "stream",
     "text": [
      "5\n"
     ]
    }
   ],
   "source": [
    "#better by 2 loops find largest and then second largest\n",
    "arr=[1,2,4,7,7,5]\n",
    "largest=-1\n",
    "second_largest=-1\n",
    "for num1 in arr:\n",
    "    if num1>largest:\n",
    "        largest=num1\n",
    "for num2 in arr:\n",
    "    if num2>second_largest and num2!=largest:\n",
    "        second_largest=num2\n",
    "print(second_largest)\n",
    "\n",
    "#time - O(N+N) = O(2N)"
   ]
  },
  {
   "cell_type": "code",
   "execution_count": 10,
   "id": "7b9867b5",
   "metadata": {},
   "outputs": [
    {
     "name": "stdout",
     "output_type": "stream",
     "text": [
      "5\n"
     ]
    }
   ],
   "source": [
    "#optimal\n",
    "#find largest and then second largest\n",
    "arr=[1,2,4,7,7,5]\n",
    "largest=-1\n",
    "second_largest=-1\n",
    "for num1 in arr:\n",
    "    if num1 > largest:\n",
    "        second_largest = largest\n",
    "        largest = num1\n",
    "    elif num1 > second_largest and num1 != largest:\n",
    "        second_largest = num1\n",
    "print(second_largest)"
   ]
  }
 ],
 "metadata": {
  "kernelspec": {
   "display_name": "Python 3",
   "language": "python",
   "name": "python3"
  },
  "language_info": {
   "codemirror_mode": {
    "name": "ipython",
    "version": 3
   },
   "file_extension": ".py",
   "mimetype": "text/x-python",
   "name": "python",
   "nbconvert_exporter": "python",
   "pygments_lexer": "ipython3",
   "version": "3.11.9"
  }
 },
 "nbformat": 4,
 "nbformat_minor": 5
}
