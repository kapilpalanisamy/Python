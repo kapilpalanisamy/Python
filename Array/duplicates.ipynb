{
 "cells": [
  {
   "cell_type": "code",
   "execution_count": null,
   "id": "f4773a46",
   "metadata": {},
   "outputs": [
    {
     "name": "stdout",
     "output_type": "stream",
     "text": [
      "{5: 1, 7: 1, 3: 2, 9: 2, 4: 1, 8: 1, 1: 1}\n",
      "8\n"
     ]
    }
   ],
   "source": [
    "#Given an array of integers, find the largest number that does not have any duplicates in the array.\n",
    "arr = [5, 7, 3, 9, 4, 9, 8, 3, 1]\n",
    "freq={}\n",
    "for i in arr:\n",
    "    freq[i]=freq.get(i,0)+1\n",
    "largest=0\n",
    "for i in freq:\n",
    "    if freq[i]==1 and i>largest:\n",
    "        largest=i\n",
    "print(freq)\n",
    "print(largest)"
   ]
  },
  {
   "cell_type": "code",
   "execution_count": 2,
   "id": "22fa65f6",
   "metadata": {},
   "outputs": [
    {
     "name": "stdout",
     "output_type": "stream",
     "text": [
      "['g', 'n', 'i', 'r', ' ', 't', 's', ' ', 'a', ' ', 's', 'i', 's', 'i', 'h', 't']\n",
      "gnir ts a sisiht\n"
     ]
    }
   ],
   "source": [
    "a=\"gnir ts a sisiht\"\n",
    "b=list(a)\n",
    "print(b)\n",
    "print(\"\".join(b))"
   ]
  },
  {
   "cell_type": "code",
   "execution_count": null,
   "id": "6f317a0b",
   "metadata": {},
   "outputs": [],
   "source": []
  }
 ],
 "metadata": {
  "kernelspec": {
   "display_name": "Python 3",
   "language": "python",
   "name": "python3"
  },
  "language_info": {
   "codemirror_mode": {
    "name": "ipython",
    "version": 3
   },
   "file_extension": ".py",
   "mimetype": "text/x-python",
   "name": "python",
   "nbconvert_exporter": "python",
   "pygments_lexer": "ipython3",
   "version": "3.11.9"
  }
 },
 "nbformat": 4,
 "nbformat_minor": 5
}
