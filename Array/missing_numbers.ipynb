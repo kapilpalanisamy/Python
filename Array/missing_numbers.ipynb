{
 "cells": [
  {
   "cell_type": "code",
   "execution_count": 2,
   "id": "b66bca52",
   "metadata": {},
   "outputs": [
    {
     "name": "stdout",
     "output_type": "stream",
     "text": [
      "3\n"
     ]
    }
   ],
   "source": [
    "#missing number\n",
    "#brute force\n",
    "arr=[1,2,4,5]\n",
    "for i in range(1,5):\n",
    "    if i not in arr:\n",
    "        print(i)\n"
   ]
  },
  {
   "cell_type": "code",
   "execution_count": null,
   "id": "43552975",
   "metadata": {},
   "outputs": [
    {
     "name": "stdout",
     "output_type": "stream",
     "text": [
      "3\n"
     ]
    }
   ],
   "source": [
    "#hashing\n",
    "arr=[1,2,4,5]\n",
    "hasharr=[0]*(len(arr)+2)\n",
    "for i in arr:\n",
    "    hasharr[i]=1\n",
    "for i in range(1,len(arr)):\n",
    "    if hasharr[i]==0:\n",
    "        print(i)\n",
    "#time O(N) + O(N)\n",
    "#space O(N)"
   ]
  },
  {
   "cell_type": "code",
   "execution_count": null,
   "id": "87d478b6",
   "metadata": {},
   "outputs": [
    {
     "name": "stdout",
     "output_type": "stream",
     "text": [
      "4\n",
      "21\n",
      "17\n",
      "6\n"
     ]
    }
   ],
   "source": [
    "#optimal sum\n",
    "#n*(n+1)/2\n",
    "arr=[1,2,3,5,6]\n",
    "sum=0\n",
    "for i in arr:\n",
    "    sum +=i\n",
    "n=len(arr)+1\n",
    "total_sum=n*(n+1)//2\n",
    "print(total_sum-sum)\n",
    "print(total_sum)\n",
    "\n",
    "#time O(N)\n",
    "#space O(1)"
   ]
  },
  {
   "cell_type": "code",
   "execution_count": 8,
   "id": "ec88deea",
   "metadata": {},
   "outputs": [
    {
     "name": "stdout",
     "output_type": "stream",
     "text": [
      "21\n"
     ]
    }
   ],
   "source": [
    "print(6*7//2)"
   ]
  },
  {
   "cell_type": "code",
   "execution_count": null,
   "id": "55919edd",
   "metadata": {},
   "outputs": [
    {
     "name": "stdout",
     "output_type": "stream",
     "text": [
      "2\n"
     ]
    }
   ],
   "source": [
    "arr = [1, 2, 4, 5]\n",
    "\n",
    "# XOR of all numbers from 1 to n (here n = len(arr)+1 since one is missing)\n",
    "xor1 = 0\n",
    "for i in range(1, len(arr) + 2):\n",
    "    xor1 ^= i\n",
    "\n",
    "# XOR of all elements in array\n",
    "xor2 = 0\n",
    "for num in arr:\n",
    "    xor2 ^= num\n",
    "\n",
    "# Missing number\n",
    "print(xor1 ^ xor2)\n"
   ]
  },
  {
   "cell_type": "code",
   "execution_count": null,
   "id": "ea4d8814",
   "metadata": {},
   "outputs": [],
   "source": []
  }
 ],
 "metadata": {
  "kernelspec": {
   "display_name": "Python 3",
   "language": "python",
   "name": "python3"
  },
  "language_info": {
   "codemirror_mode": {
    "name": "ipython",
    "version": 3
   },
   "file_extension": ".py",
   "mimetype": "text/x-python",
   "name": "python",
   "nbconvert_exporter": "python",
   "pygments_lexer": "ipython3",
   "version": "3.11.9"
  }
 },
 "nbformat": 4,
 "nbformat_minor": 5
}
