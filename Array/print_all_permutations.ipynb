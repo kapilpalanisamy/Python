{
 "cells": [
  {
   "cell_type": "code",
   "execution_count": 2,
   "id": "6f3615b3",
   "metadata": {},
   "outputs": [
    {
     "name": "stdout",
     "output_type": "stream",
     "text": [
      "[[1, 2, 3], [1, 3, 2], [2, 1, 3], [2, 3, 1], [3, 1, 2], [3, 2, 1]]\n"
     ]
    }
   ],
   "source": [
    "#need to print all the permutaions for the given array\n",
    "#lets take the given array\n",
    "arr=[1,2,3]\n",
    "#now we will design the structures we need\n",
    "\n",
    "def main(arr):\n",
    "    temp=[]\n",
    "    boolean=[False]*len(arr)\n",
    "    ans=[]\n",
    "    permutation(arr,temp,boolean,ans)\n",
    "    return ans\n",
    "\n",
    "def permutation(arr,temp,boolean,ans):\n",
    "    if len(temp)==len(arr):\n",
    "        ans.append(list(temp))\n",
    "        return\n",
    "    for i in range(len(arr)):\n",
    "        if boolean[i]==False:\n",
    "            boolean[i]=True\n",
    "            temp.append(arr[i])\n",
    "            permutation(arr,temp,boolean,ans)\n",
    "            temp.pop()\n",
    "            boolean[i]=False\n",
    "arr = [1, 2, 3]   \n",
    "a = main(arr)\n",
    "print(a)\n"
   ]
  },
  {
   "cell_type": "code",
   "execution_count": null,
   "id": "b7a2f0b8",
   "metadata": {},
   "outputs": [],
   "source": []
  }
 ],
 "metadata": {
  "kernelspec": {
   "display_name": "Python 3",
   "language": "python",
   "name": "python3"
  },
  "language_info": {
   "codemirror_mode": {
    "name": "ipython",
    "version": 3
   },
   "file_extension": ".py",
   "mimetype": "text/x-python",
   "name": "python",
   "nbconvert_exporter": "python",
   "pygments_lexer": "ipython3",
   "version": "3.11.9"
  }
 },
 "nbformat": 4,
 "nbformat_minor": 5
}
