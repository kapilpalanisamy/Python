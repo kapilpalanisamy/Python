{
 "cells": [
  {
   "cell_type": "code",
   "execution_count": null,
   "id": "b697a86b",
   "metadata": {},
   "outputs": [
    {
     "name": "stdout",
     "output_type": "stream",
     "text": [
      "[[-1, 0, 1], [-1, -1, 2]]\n"
     ]
    }
   ],
   "source": [
    "#brute\n",
    "nums = [-1,0,1,2,-1,-4]\n",
    "n=len(nums)\n",
    "a=set()\n",
    "for i in range(0,n):\n",
    "    for j in range(i+1,n):\n",
    "        for k in range(j+1,n):\n",
    "            if nums[i]+nums[j]+nums[k]==0:\n",
    "                temp=[nums[i],nums[j],nums[k]]\n",
    "                temp.sort()\n",
    "                a.add(tuple(temp))  \n",
    "result=[list(i) for i in a]\n",
    "print(result)\n",
    "#time O(n3) x log(no of elements)\n",
    "#space 2x O(no of triplets)"
   ]
  },
  {
   "cell_type": "code",
   "execution_count": null,
   "id": "e82142b3",
   "metadata": {},
   "outputs": [
    {
     "name": "stdout",
     "output_type": "stream",
     "text": [
      "{(-1, 0, 1), (-1, -1, 2)}\n"
     ]
    }
   ],
   "source": [
    "#better\n",
    "#hashing\n",
    "nums = [-1,0,1,2,-1,-4]\n",
    "n=len(nums)\n",
    "a=set()\n",
    "for i in range(n):\n",
    "    curr=set()\n",
    "    for j in range(i+1,n):\n",
    "        k=(-(nums[i]+nums[j]))\n",
    "        if k in curr:\n",
    "            temp=[nums[i],nums[j],k]\n",
    "            temp.sort()\n",
    "            a.add(tuple(temp))\n",
    "        curr.add(nums[j])\n",
    "print(a)\n",
    "#time o(n2)+log(size of set)\n",
    "#space o(N) + O(no of ways)"
   ]
  },
  {
   "cell_type": "code",
   "execution_count": 11,
   "id": "20de61fc",
   "metadata": {},
   "outputs": [
    {
     "name": "stdout",
     "output_type": "stream",
     "text": [
      "[[-2, 0, 2], [-1, -1, 2], [0, 0, 0]]\n"
     ]
    }
   ],
   "source": [
    "#optimal \n",
    "#sorted\n",
    "arr=[-2,-2,-2,-1,-1,-1,0,0,0,2,2,2,2]\n",
    "arr.sort()\n",
    "ans=[]\n",
    "n=len(arr)\n",
    "for i in range(n):\n",
    "    if i>0 and arr[i] == arr[i-1]:\n",
    "        continue\n",
    "    j=i+1\n",
    "    k=n-1\n",
    "    while j<k:\n",
    "        sum1=arr[i]+arr[j]+arr[k]\n",
    "        if sum1<0:\n",
    "            j+=1\n",
    "        elif sum1>0:\n",
    "            k-=1\n",
    "        else:\n",
    "            temp=[arr[i],arr[j],arr[k]]\n",
    "            ans.append(temp)\n",
    "            j+=1\n",
    "            k-=1\n",
    "            while j<k and arr[j]==arr[j-1]:\n",
    "                j+=1\n",
    "            while j<k and arr[k]==arr[k+1]:\n",
    "                k-=1\n",
    "print(ans)\n",
    "#time O(nlogn)+O(n2)\n",
    "#space O(1)"
   ]
  },
  {
   "cell_type": "code",
   "execution_count": null,
   "id": "a2fec238",
   "metadata": {},
   "outputs": [],
   "source": []
  }
 ],
 "metadata": {
  "kernelspec": {
   "display_name": "Python 3",
   "language": "python",
   "name": "python3"
  },
  "language_info": {
   "codemirror_mode": {
    "name": "ipython",
    "version": 3
   },
   "file_extension": ".py",
   "mimetype": "text/x-python",
   "name": "python",
   "nbconvert_exporter": "python",
   "pygments_lexer": "ipython3",
   "version": "3.11.9"
  }
 },
 "nbformat": 4,
 "nbformat_minor": 5
}
