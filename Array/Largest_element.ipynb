{
 "cells": [
  {
   "cell_type": "code",
   "execution_count": 1,
   "id": "e9d423c8",
   "metadata": {},
   "outputs": [
    {
     "name": "stdout",
     "output_type": "stream",
     "text": [
      "9\n"
     ]
    }
   ],
   "source": [
    "#Brute Force\n",
    "arr=[3, 1, 4, 1, 5, 9, 2, 6, 5]\n",
    "arr.sort()\n",
    "print(arr[-1])\n",
    "\n",
    "#time- NlogN"
   ]
  },
  {
   "cell_type": "code",
   "execution_count": 2,
   "id": "2089c6f7",
   "metadata": {},
   "outputs": [
    {
     "name": "stdout",
     "output_type": "stream",
     "text": [
      "9\n"
     ]
    }
   ],
   "source": [
    "#optimal \n",
    "arr=[3, 1, 4, 1, 5, 9, 2, 6, 5]\n",
    "largest=arr[0]\n",
    "for number in arr:\n",
    "    if number>largest:\n",
    "        largest=number\n",
    "print(largest)\n",
    "\n",
    "#time- O(N)"
   ]
  }
 ],
 "metadata": {
  "kernelspec": {
   "display_name": "Python 3",
   "language": "python",
   "name": "python3"
  },
  "language_info": {
   "codemirror_mode": {
    "name": "ipython",
    "version": 3
   },
   "file_extension": ".py",
   "mimetype": "text/x-python",
   "name": "python",
   "nbconvert_exporter": "python",
   "pygments_lexer": "ipython3",
   "version": "3.11.9"
  }
 },
 "nbformat": 4,
 "nbformat_minor": 5
}
