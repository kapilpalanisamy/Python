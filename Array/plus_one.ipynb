{
 "cells": [
  {
   "cell_type": "code",
   "execution_count": null,
   "id": "2f4dee9a",
   "metadata": {},
   "outputs": [],
   "source": [
    "class Solution(object):\n",
    "    def plusOne(self, digits):\n",
    "        \"\"\"\n",
    "        :type digits: List[int]\n",
    "        :rtype: List[int]\n",
    "        \"\"\"\n",
    "        # Traverse the list from the last element to the first\n",
    "        for i in range(len(digits)-1, -1, -1):\n",
    "            # If the current digit is 9, set it to 0\n",
    "            if digits[i] == 9:\n",
    "                digits[i] = 0\n",
    "            else:\n",
    "                # If the current digit is not 9, increment it by 1 and return the list\n",
    "                digits[i] = digits[i] + 1\n",
    "                return digits\n",
    "        # If all digits are 9, prepend 1 to the list\n",
    "        return [1] + digits"
   ]
  }
 ],
 "metadata": {
  "language_info": {
   "name": "python"
  }
 },
 "nbformat": 4,
 "nbformat_minor": 5
}
