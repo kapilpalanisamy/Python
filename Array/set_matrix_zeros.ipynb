{
 "cells": [
  {
   "cell_type": "code",
   "execution_count": null,
   "id": "ede8631a",
   "metadata": {},
   "outputs": [
    {
     "name": "stdout",
     "output_type": "stream",
     "text": [
      "[[1, 0, 1], [0, 0, 0], [1, 0, 1]]\n"
     ]
    }
   ],
   "source": [
    "#Brute Force\n",
    "#Input: matrix = [[1,1,1],[1,0,1],[1,1,1]]\n",
    "#Output: [[1,0,1],[0,0,0],[1,0,1]]\n",
    "def main():\n",
    "    matrix = [[1, 1, 1],\n",
    "              [1, 0, 1],\n",
    "              [1, 1, 1]]\n",
    "    n = len(matrix) #rows\n",
    "    m = len(matrix[0]) #columns\n",
    "\n",
    "    # Step 1: Traverse matrix\n",
    "    for i in range(n):\n",
    "        for j in range(m):\n",
    "            if matrix[i][j] == 0:\n",
    "                mark_row(matrix, i, m)\n",
    "                mark_col(matrix, j, n)\n",
    "\n",
    "    # Step 2: Replace -1 with 0\n",
    "    for i in range(n):\n",
    "        for j in range(m):\n",
    "            if matrix[i][j] == -1:\n",
    "                matrix[i][j] = 0\n",
    "\n",
    "    print(matrix)\n",
    "\n",
    "\n",
    "def mark_row(matrix, row, m):\n",
    "    for j in range(m):\n",
    "        if matrix[row][j] != 0:\n",
    "            matrix[row][j] = -1\n",
    "\n",
    "\n",
    "def mark_col(matrix, col, n):\n",
    "    for i in range(n):\n",
    "        if matrix[i][col] != 0:\n",
    "            matrix[i][col] = -1\n",
    "\n",
    "\n",
    "if __name__ == \"__main__\":\n",
    "    main()\n",
    "#Time (nxm)x(n+m)x(nxm) around n^3"
   ]
  },
  {
   "cell_type": "code",
   "execution_count": null,
   "id": "eb93b029",
   "metadata": {},
   "outputs": [
    {
     "name": "stdout",
     "output_type": "stream",
     "text": [
      "3 4\n",
      "[[0, 0, 0, 0], [0, 4, 5, 0], [0, 3, 1, 0]]\n"
     ]
    }
   ],
   "source": [
    "#better\n",
    "matrix = [[0,1,2,0],[3,4,5,2],[1,3,1,5]]\n",
    "n=len(matrix) #row\n",
    "m=len(matrix[0]) #col\n",
    "print(n,m)\n",
    "col=[0]*n\n",
    "row=[0]*m\n",
    "for i in range(n):\n",
    "    for j in range(m):\n",
    "        if matrix[i][j]==0:\n",
    "            col[i]=1\n",
    "            row[j]=1\n",
    "for i in range(n):\n",
    "    for j in range(m):\n",
    "        if col[i] == 1 or row[j] == 1:\n",
    "                matrix[i][j]=0\n",
    "print(matrix)\n",
    "#time O(2xnxm)\n",
    "#space O(n)+O(m)"
   ]
  },
  {
   "cell_type": "code",
   "execution_count": null,
   "id": "33810a3f",
   "metadata": {},
   "outputs": [
    {
     "name": "stdout",
     "output_type": "stream",
     "text": [
      "[[0, 0, 0, 0], [0, 4, 5, 0], [0, 3, 1, 0]]\n"
     ]
    }
   ],
   "source": [
    "#optimal\n",
    "matrix = [[0,1,2,0],[3,4,5,2],[1,3,1,5]]\n",
    "n=len(matrix) #row\n",
    "m=len(matrix[0]) #col\n",
    "#col=matrix[0][...]\n",
    "#row = matrix[...][0]\n",
    "col0=1\n",
    "for i in range(n):\n",
    "    for j in range(m):\n",
    "        if matrix[i][j]==0:\n",
    "            matrix[i][0]=0\n",
    "            if j!=0:\n",
    "                matrix[0][j]=0\n",
    "            else:\n",
    "                col0=0\n",
    "for i in range(1,n):\n",
    "    for j in range(1,m):\n",
    "        if matrix[i][j] !=0:\n",
    "            if matrix[0][j] ==0 or matrix[i][0]==0:\n",
    "                matrix[i][j]=0\n",
    "if matrix[0][0]==0:\n",
    "    for j in range(m):\n",
    "        matrix[0][j]=0\n",
    "if col0==0:\n",
    "    for i in range(n):\n",
    "        matrix[i][0]=0\n",
    "print(matrix)\n",
    "#Time: O(n × m) (two full passes)\n",
    "#Space: O(1) (reuses first row/col + one flag col0)"
   ]
  }
 ],
 "metadata": {
  "kernelspec": {
   "display_name": "base",
   "language": "python",
   "name": "python3"
  },
  "language_info": {
   "codemirror_mode": {
    "name": "ipython",
    "version": 3
   },
   "file_extension": ".py",
   "mimetype": "text/x-python",
   "name": "python",
   "nbconvert_exporter": "python",
   "pygments_lexer": "ipython3",
   "version": "3.13.5"
  }
 },
 "nbformat": 4,
 "nbformat_minor": 5
}
