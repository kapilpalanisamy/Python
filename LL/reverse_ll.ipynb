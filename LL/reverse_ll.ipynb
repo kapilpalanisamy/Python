{
 "cells": [
  {
   "cell_type": "code",
   "execution_count": null,
   "id": "c5d1fd4a",
   "metadata": {},
   "outputs": [],
   "source": [
    "#revers a linkedlist\n",
    "#brute force\n",
    "# Definition for singly-linked list.\n",
    "# class ListNode:\n",
    "#     def __init__(self, val=0, next=None):\n",
    "#         self.val = val\n",
    "#         self.next = next\n",
    "class Solution:\n",
    "    def reverseList(self, head: Optional[ListNode]) -> Optional[ListNode]:\n",
    "        temp=head\n",
    "        stack=[]\n",
    "        while temp:\n",
    "            stack.append(temp.val)\n",
    "            temp=temp.next\n",
    "        temp=head\n",
    "        while temp:\n",
    "            d=stack.pop()\n",
    "            temp.val=d\n",
    "            temp=temp.next\n",
    "        return head\n",
    "#time O(2n)\n",
    "#space O(n)"
   ]
  },
  {
   "cell_type": "code",
   "execution_count": null,
   "id": "be9cffc4",
   "metadata": {},
   "outputs": [],
   "source": [
    "#better\n",
    "# Definition for singly-linked list.\n",
    "# class ListNode:\n",
    "#     def __init__(self, val=0, next=None):\n",
    "#         self.val = val\n",
    "#         self.next = next\n",
    "class Solution:\n",
    "    def reverseList(self, head: Optional[ListNode]) -> Optional[ListNode]:\n",
    "        temp=head\n",
    "        stack=[]\n",
    "        prev=None\n",
    "        front=None\n",
    "        while temp:\n",
    "            front=temp.next\n",
    "            temp.next=prev\n",
    "            prev=temp\n",
    "            temp=front\n",
    "        return prev\n",
    "#time O(n)"
   ]
  }
 ],
 "metadata": {
  "language_info": {
   "name": "python"
  }
 },
 "nbformat": 4,
 "nbformat_minor": 5
}
