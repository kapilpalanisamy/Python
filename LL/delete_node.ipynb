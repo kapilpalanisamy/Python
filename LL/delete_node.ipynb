{
 "cells": [
  {
   "cell_type": "code",
   "execution_count": null,
   "id": "16e632e9",
   "metadata": {},
   "outputs": [],
   "source": [
    "# Definition for singly-linked list.\n",
    "# class ListNode:\n",
    "#     def __init__(self, x):\n",
    "#         self.val = x\n",
    "#         self.next = None\n",
    "\n",
    "class Solution:\n",
    "    def deleteNode(self, node):\n",
    "        \"\"\"\n",
    "        :type node: ListNode\n",
    "        :rtype: void Do not return anything, modify node in-place instead.\n",
    "        \"\"\"\n",
    "        node.val = node.next.val\n",
    "        node.next = node.next.next"
   ]
  },
  {
   "cell_type": "code",
   "execution_count": null,
   "id": "4d84bad4",
   "metadata": {},
   "outputs": [],
   "source": [
    "#remove nth node from a linked list \n",
    "#bruteforce\n",
    "# Definition for singly-linked list.\n",
    "# class ListNode:\n",
    "#     def __init__(self, val=0, next=None):\n",
    "#         self.val = val\n",
    "#         self.next = next\n",
    "class Solution:\n",
    "    def removeNthFromEnd(self, head: Optional[ListNode], n: int) -> Optional[ListNode]:\n",
    "        count=0\n",
    "        temp=head\n",
    "        while temp:\n",
    "            count+=1\n",
    "            temp=temp.next\n",
    "        if count==n:\n",
    "            new_head=head.next\n",
    "            return new_head\n",
    "        res=count-n\n",
    "        temp=head\n",
    "        while temp:\n",
    "            res-=1\n",
    "            if res==0:\n",
    "                break\n",
    "            temp=temp.next\n",
    "        temp.next=temp.next.next\n",
    "        return head\n",
    "#time O(len)+o(len-N)"
   ]
  },
  {
   "cell_type": "code",
   "execution_count": null,
   "id": "8f4ead34",
   "metadata": {},
   "outputs": [],
   "source": [
    "#optimal\n",
    "# Definition for singly-linked list.\n",
    "# class ListNode:\n",
    "#     def __init__(self, val=0, next=None):\n",
    "#         self.val = val\n",
    "#         self.next = next\n",
    "class Solution:\n",
    "    def removeNthFromEnd(self, head: Optional[ListNode], n: int) -> Optional[ListNode]:\n",
    "        fast=head\n",
    "        for i in range(n):\n",
    "            fast=fast.next\n",
    "        slow=head\n",
    "        if fast is None:\n",
    "            return head.next\n",
    "        while fast.next!=None:\n",
    "            fast=fast.next\n",
    "            slow=slow.next\n",
    "        slow.next=slow.next.next\n",
    "        return head\n",
    "#time O(n)+O(l-n)"
   ]
  }
 ],
 "metadata": {
  "language_info": {
   "name": "python"
  }
 },
 "nbformat": 4,
 "nbformat_minor": 5
}
