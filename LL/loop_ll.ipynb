{
 "cells": [
  {
   "cell_type": "code",
   "execution_count": null,
   "id": "7e0ef507",
   "metadata": {},
   "outputs": [],
   "source": [
    "#naive\n",
    "# Definition for singly-linked list.\n",
    "# class ListNode:\n",
    "#     def __init__(self, x):\n",
    "#         self.val = x\n",
    "#         self.next = None\n",
    "\n",
    "class Solution:\n",
    "    def hasCycle(self, head: Optional[ListNode]) -> bool:\n",
    "        temp=head\n",
    "        visited=set()\n",
    "        while temp:\n",
    "            if temp in visited:\n",
    "                return True\n",
    "            visited.add(temp)\n",
    "            temp = temp.next\n",
    "        return False"
   ]
  },
  {
   "cell_type": "code",
   "execution_count": null,
   "id": "be3d6ac2",
   "metadata": {},
   "outputs": [],
   "source": [
    "#optimal \n",
    "#Floyd’s Cycle Detection Algorithm\n",
    "# Definition for singly-linked list.\n",
    "# class ListNode:\n",
    "#     def __init__(self, x):\n",
    "#         self.val = x\n",
    "#         self.next = None\n",
    "\n",
    "class Solution:\n",
    "    def hasCycle(self, head: Optional[ListNode]) -> bool:\n",
    "        s=head\n",
    "        f=head\n",
    "        while f and f.next:\n",
    "            s=s.next\n",
    "            f=f.next.next\n",
    "            if s==f:\n",
    "                return True\n",
    "        return False"
   ]
  }
 ],
 "metadata": {
  "language_info": {
   "name": "python"
  }
 },
 "nbformat": 4,
 "nbformat_minor": 5
}
