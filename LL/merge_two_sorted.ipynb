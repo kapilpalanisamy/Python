{
 "cells": [
  {
   "cell_type": "code",
   "execution_count": null,
   "id": "d7830b1d",
   "metadata": {},
   "outputs": [],
   "source": [
    "#naive\n",
    "# Definition for singly-linked list.\n",
    "# class ListNode:\n",
    "#     def __init__(self, val=0, next=None):\n",
    "#         self.val = val\n",
    "#         self.next = next\n",
    "class Solution:\n",
    "    def mergeTwoLists(self, list1: Optional[ListNode], list2: Optional[ListNode]) -> Optional[ListNode]:\n",
    "        arr=[]\n",
    "        temp=list1\n",
    "        while temp:\n",
    "            arr.append(temp.val)\n",
    "            temp=temp.next\n",
    "        temp=list2\n",
    "        while temp:\n",
    "            arr.append(temp.val)\n",
    "            temp=temp.next\n",
    "        arr.sort()\n",
    "        self.head=None\n",
    "        self.last=None\n",
    "        for i in arr:\n",
    "            self.add(i)\n",
    "        return self.head\n",
    "\n",
    "    def add(self,value):\n",
    "        def __init__(self):\n",
    "            self.head=None\n",
    "            self.last=None\n",
    "        nn=ListNode(value)\n",
    "        if self.head is None:\n",
    "            self.head=nn\n",
    "            self.last=nn\n",
    "        else:\n",
    "            self.last.next=nn\n",
    "            self.last=nn"
   ]
  },
  {
   "cell_type": "code",
   "execution_count": null,
   "id": "2221aa48",
   "metadata": {},
   "outputs": [],
   "source": [
    "# Definition for singly-linked list.\n",
    "# class ListNode:\n",
    "#     def __init__(self, val=0, next=None):\n",
    "#         self.val = val\n",
    "#         self.next = next\n",
    "class Solution:\n",
    "    def mergeTwoLists(self, list1: Optional[ListNode], list2: Optional[ListNode]) -> Optional[ListNode]:\n",
    "        t1=list1\n",
    "        t2=list2\n",
    "        dummy=ListNode(-1)\n",
    "        temp=dummy\n",
    "        while t1!=None and t2!=None:\n",
    "            if t1.val <t2.val:\n",
    "                temp.next=t1\n",
    "                temp=t1\n",
    "                t1=t1.next\n",
    "            else:\n",
    "                temp.next=t2\n",
    "                temp=t2\n",
    "                t2=t2.next\n",
    "        if t1:\n",
    "            temp.next=t1\n",
    "        else:\n",
    "            temp.next=t2\n",
    "        return dummy.next"
   ]
  }
 ],
 "metadata": {
  "language_info": {
   "name": "python"
  }
 },
 "nbformat": 4,
 "nbformat_minor": 5
}
