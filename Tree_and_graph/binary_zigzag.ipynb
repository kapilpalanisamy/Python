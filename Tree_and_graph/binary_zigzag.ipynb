{
 "cells": [
  {
   "cell_type": "code",
   "execution_count": null,
   "id": "1a4de466",
   "metadata": {},
   "outputs": [],
   "source": [
    "# Definition for a binary tree node.\n",
    "# class TreeNode:\n",
    "#     def __init__(self, val=0, left=None, right=None):\n",
    "#         self.val = val\n",
    "#         self.left = left\n",
    "#         self.right = right\n",
    "class Solution:\n",
    "    def zigzagLevelOrder(self, root: Optional[TreeNode]) -> List[List[int]]:\n",
    "        if not root:\n",
    "            return []\n",
    "        ans=[]\n",
    "        queue=deque([root])\n",
    "        while queue:\n",
    "            curr=[]\n",
    "            for i in range(len(queue)):\n",
    "                a=queue.popleft()\n",
    "                curr.append(a.val)\n",
    "                if a.left:\n",
    "                    queue.append(a.left)\n",
    "                if a.right:\n",
    "                    queue.append(a.right)\n",
    "            ans.append(curr)\n",
    "        for i in range(len(ans)):\n",
    "            if i%2!=0:\n",
    "                ans[i]=ans[i][::-1]\n",
    "        return ans"
   ]
  }
 ],
 "metadata": {
  "language_info": {
   "name": "python"
  }
 },
 "nbformat": 4,
 "nbformat_minor": 5
}
