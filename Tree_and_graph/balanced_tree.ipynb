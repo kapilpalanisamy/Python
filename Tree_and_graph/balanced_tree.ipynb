{
 "cells": [
  {
   "cell_type": "code",
   "execution_count": null,
   "id": "9863a92a",
   "metadata": {},
   "outputs": [],
   "source": [
    "# Definition for a binary tree node.\n",
    "# class TreeNode:\n",
    "#     def __init__(self, val=0, left=None, right=None):\n",
    "#         self.val = val\n",
    "#         self.left = left\n",
    "#         self.right = right\n",
    "\n",
    "class Solution:\n",
    "    def isBalanced(self, root: Optional[TreeNode]) -> bool:\n",
    "        return self.height(root) != -1\n",
    "\n",
    "    def height(self, node):\n",
    "        if node is None:\n",
    "            return 0\n",
    "        lh = self.height(node.left)\n",
    "        if lh == -1:\n",
    "            return -1\n",
    "        rh = self.height(node.right)\n",
    "        if rh == -1:\n",
    "            return -1\n",
    "        if abs(lh - rh) > 1:\n",
    "            return -1\n",
    "        return max(lh, rh) + 1\n"
   ]
  }
 ],
 "metadata": {
  "language_info": {
   "name": "python"
  }
 },
 "nbformat": 4,
 "nbformat_minor": 5
}
