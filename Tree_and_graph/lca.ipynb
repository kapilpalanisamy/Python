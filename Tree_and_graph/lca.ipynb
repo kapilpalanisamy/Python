{
 "cells": [
  {
   "cell_type": "code",
   "execution_count": null,
   "id": "3b1519d2",
   "metadata": {},
   "outputs": [],
   "source": [
    "# Definition for a binary tree node.\n",
    "# class TreeNode:\n",
    "#     def __init__(self, x):\n",
    "#         self.val = x\n",
    "#         self.left = None\n",
    "#         self.right = None\n",
    "\n",
    "class Solution:\n",
    "    def lowestCommonAncestor(self,root,p,q):\n",
    "        if root is None or root==p or root==q:\n",
    "            return root\n",
    "        left=self.lowestCommonAncestor(root.left,p,q)\n",
    "        right=self.lowestCommonAncestor(root.right,p,q)\n",
    "\n",
    "        if left==None:\n",
    "            return right\n",
    "        \n",
    "        if right==None:\n",
    "            return left\n",
    "        \n",
    "        else:\n",
    "            return root"
   ]
  }
 ],
 "metadata": {
  "language_info": {
   "name": "python"
  }
 },
 "nbformat": 4,
 "nbformat_minor": 5
}
