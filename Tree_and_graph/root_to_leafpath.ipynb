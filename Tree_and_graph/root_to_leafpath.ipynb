{
 "cells": [
  {
   "cell_type": "code",
   "execution_count": null,
   "id": "c6d14d58",
   "metadata": {},
   "outputs": [],
   "source": [
    "#root to node path\n",
    "#node=7\n",
    "#we will use the inorder\n",
    "# Definition for a binary tree node.\n",
    "# class TreeNode:\n",
    "#     def __init__(self, val=0, left=None, right=None):\n",
    "#         self.val = val\n",
    "#         self.left = left\n",
    "#         self.right = right\n",
    "\n",
    "class Solution:\n",
    "    def binaryTreePath(self, root, x):\n",
    "        path = []\n",
    "        if self.getPath(root, path, x):\n",
    "            return path\n",
    "        return []   # if node not found\n",
    "\n",
    "    def getPath(self, root, path, x):\n",
    "        if root is None:\n",
    "            return False\n",
    "\n",
    "        # add current node to path\n",
    "        path.append(root.val)\n",
    "\n",
    "        # if current node is target\n",
    "        if root.val == x:\n",
    "            return True\n",
    "\n",
    "        # search in left or right\n",
    "        if self.getPath(root.left, path, x) or self.getPath(root.right, path, x):\n",
    "            return True\n",
    "\n",
    "        # backtrack\n",
    "        path.pop()\n",
    "        return False\n"
   ]
  }
 ],
 "metadata": {
  "language_info": {
   "name": "python"
  }
 },
 "nbformat": 4,
 "nbformat_minor": 5
}
