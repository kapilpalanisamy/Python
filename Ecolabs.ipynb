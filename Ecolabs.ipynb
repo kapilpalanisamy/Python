{
 "cells": [
  {
   "cell_type": "code",
   "execution_count": 5,
   "id": "e1814166",
   "metadata": {},
   "outputs": [
    {
     "name": "stdout",
     "output_type": "stream",
     "text": [
      "Your berth is: Side Lower\n"
     ]
    }
   ],
   "source": [
    "#Eco Labs\n",
    "def berth_type(seat_number):\n",
    "    rem=seat_number%8\n",
    "    dict={0:\"Side Lower\",\n",
    "        1:\"Side Upper\",\n",
    "        2:\"Lower\",\n",
    "        3:\"Middle\",\n",
    "        4:\"Upper\",\n",
    "        5:\"Lower\",\n",
    "        6:\"Middle\",\n",
    "        7:\"Upper\"}\n",
    "    return dict[rem]\n",
    "\n",
    "def main():\n",
    "    seat_number=int(input(\"Enter your seat number\"))\n",
    "    berth=berth_type(seat_number)\n",
    "    print(\"Your berth is:\",berth)\n",
    "\n",
    "if __name__ == '__main__':\n",
    "    main()\n"
   ]
  }
 ],
 "metadata": {
  "kernelspec": {
   "display_name": "Python 3",
   "language": "python",
   "name": "python3"
  },
  "language_info": {
   "codemirror_mode": {
    "name": "ipython",
    "version": 3
   },
   "file_extension": ".py",
   "mimetype": "text/x-python",
   "name": "python",
   "nbconvert_exporter": "python",
   "pygments_lexer": "ipython3",
   "version": "3.11.9"
  }
 },
 "nbformat": 4,
 "nbformat_minor": 5
}
