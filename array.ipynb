{
 "cells": [
  {
   "cell_type": "code",
   "execution_count": 1,
   "id": "daea1cbe",
   "metadata": {},
   "outputs": [
    {
     "name": "stdout",
     "output_type": "stream",
     "text": [
      "[2, 3, 4, 5, 5, 6, 1]\n"
     ]
    }
   ],
   "source": [
    "#left rotation of the array\n",
    "arr=[1,2,3,4,5,6]\n",
    "temp=arr[0]\n",
    "n=len(arr)\n",
    "for num in range(1,n-1):\n",
    "    arr[num-1]=arr[num]\n",
    "arr.append(temp)\n",
    "print(arr)"
   ]
  },
  {
   "cell_type": "code",
   "execution_count": null,
   "id": "c111335b",
   "metadata": {},
   "outputs": [
    {
     "data": {
      "text/plain": [
       "[3, 2, 1, 4, 5, 6]"
      ]
     },
     "execution_count": 8,
     "metadata": {},
     "output_type": "execute_result"
    }
   ],
   "source": [
    "#left rotaion of the array for n times\n",
    "arr=[1,2,3,4,5,6]\n",
    "class Solution:\n",
    "    def rotate(self, nums: List[int], k: int) -> None:\n",
    "        n = len(nums)\n",
    "        k %= n  # handle k > n\n",
    "        self.reverse(nums, 0, n - 1)\n",
    "        self.reverse(nums, 0, k - 1)\n",
    "        self.reverse(nums, k, n - 1)\n",
    "\n",
    "    def reverse(self, arr: List[int], start: int, end: int) -> None:\n",
    "        while start < end:\n",
    "            arr[start], arr[end] = arr[end], arr[start]\n",
    "            start += 1\n",
    "            end -= 1\n"
   ]
  },
  {
   "cell_type": "code",
   "execution_count": null,
   "id": "b2115e7e",
   "metadata": {},
   "outputs": [
    {
     "name": "stdout",
     "output_type": "stream",
     "text": [
      "[1, 2, 3, 4, 6, 8, 9, 0, 0, 0, 0]\n"
     ]
    }
   ],
   "source": [
    "#move all zeros to end optimal solution \n",
    "arr=[1,2,0,3,4,0,6,0,8,9,0]\n",
    "j=-1\n",
    "for i in range(len(arr)):\n",
    "    if arr[i]==0:\n",
    "        j=i\n",
    "        break\n",
    "for i in range(j+1,len(arr)):\n",
    "    if arr[i]!=0:\n",
    "        arr[i],arr[j]=arr[j],arr[i]\n",
    "        j +=1\n",
    "print(arr)"
   ]
  },
  {
   "cell_type": "code",
   "execution_count": null,
   "id": "0eb325da",
   "metadata": {},
   "outputs": [],
   "source": []
  }
 ],
 "metadata": {
  "kernelspec": {
   "display_name": "Python 3",
   "language": "python",
   "name": "python3"
  },
  "language_info": {
   "codemirror_mode": {
    "name": "ipython",
    "version": 3
   },
   "file_extension": ".py",
   "mimetype": "text/x-python",
   "name": "python",
   "nbconvert_exporter": "python",
   "pygments_lexer": "ipython3",
   "version": "3.11.9"
  }
 },
 "nbformat": 4,
 "nbformat_minor": 5
}
