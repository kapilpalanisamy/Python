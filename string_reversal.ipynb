{
 "cells": [
  {
   "cell_type": "code",
   "execution_count": 6,
   "id": "9798a6a1",
   "metadata": {},
   "outputs": [
    {
     "name": "stdout",
     "output_type": "stream",
     "text": [
      "lipaKolleh\n"
     ]
    }
   ],
   "source": [
    "#slicing\n",
    "a=\"helloKapil\"\n",
    "res=a[::-1]\n",
    "print(res)"
   ]
  },
  {
   "cell_type": "code",
   "execution_count": 9,
   "id": "1b7a77b6",
   "metadata": {},
   "outputs": [
    {
     "name": "stdout",
     "output_type": "stream",
     "text": [
      "<reversed object at 0x000001A88D1B0D00>\n",
      "lipaKolleh\n"
     ]
    }
   ],
   "source": [
    "#reversed\n",
    "a=\"helloKapil\"\n",
    "b=reversed(a)\n",
    "print(b)\n",
    "res=''.join(b)\n",
    "print(res)"
   ]
  },
  {
   "cell_type": "code",
   "execution_count": null,
   "id": "b6554f49",
   "metadata": {},
   "outputs": [
    {
     "name": "stdout",
     "output_type": "stream",
     "text": [
      "lipaKolleh\n"
     ]
    }
   ],
   "source": [
    "#reversed with for loop\n",
    "a=\"helloKapil\"\n",
    "res=\"\"\n",
    "for char in a:\n",
    "    res=char+res\n",
    "print(res) "
   ]
  },
  {
   "cell_type": "code",
   "execution_count": 11,
   "id": "0e704b34",
   "metadata": {},
   "outputs": [
    {
     "name": "stdout",
     "output_type": "stream",
     "text": [
      "lipaKolleh\n"
     ]
    }
   ],
   "source": [
    "#stack\n",
    "a=\"helloKapil\"\n",
    "stack=[]\n",
    "for char in a:\n",
    "    stack.append(char)\n",
    "res=\"\"\n",
    "while stack:\n",
    "    res+=stack.pop()\n",
    "print(res)"
   ]
  }
 ],
 "metadata": {
  "kernelspec": {
   "display_name": "Python 3",
   "language": "python",
   "name": "python3"
  },
  "language_info": {
   "codemirror_mode": {
    "name": "ipython",
    "version": 3
   },
   "file_extension": ".py",
   "mimetype": "text/x-python",
   "name": "python",
   "nbconvert_exporter": "python",
   "pygments_lexer": "ipython3",
   "version": "3.11.9"
  }
 },
 "nbformat": 4,
 "nbformat_minor": 5
}
