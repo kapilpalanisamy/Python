{
 "cells": [
  {
   "cell_type": "code",
   "execution_count": null,
   "id": "5f19e2f0",
   "metadata": {},
   "outputs": [
    {
     "name": "stdout",
     "output_type": "stream",
     "text": [
      "9\n"
     ]
    }
   ],
   "source": [
    "#beautiful triplets sum \n",
    "def digit(sum1):\n",
    "    res=0\n",
    "    while sum1>0:\n",
    "        res+=sum1%10\n",
    "        sum1//=10\n",
    "    return res\n",
    "\n",
    "def square(sum1):\n",
    "    res=int(sum1**0.5)\n",
    "    return res*res==sum1\n",
    "\n",
    "arr = [1, 2, 4, 5, 7, 8, 10]\n",
    "count=0\n",
    "for i in range(len(arr)):\n",
    "    for j in range(i+1,len(arr)):\n",
    "        for k in range(j+1,len(arr)):\n",
    "            sum1=arr[i]+arr[j]+arr[k]\n",
    "            a=digit(sum1)\n",
    "            if square(a):\n",
    "                count+=1\n",
    "print(count)\n",
    "#time O(n3)"
   ]
  },
  {
   "cell_type": "code",
   "execution_count": null,
   "id": "27e2b3db",
   "metadata": {},
   "outputs": [
    {
     "name": "stdout",
     "output_type": "stream",
     "text": [
      "9\n"
     ]
    }
   ],
   "source": [
    "#other method\n",
    "def digit(sum1):\n",
    "    res=0\n",
    "    while sum1>0:\n",
    "        res+=sum1%10\n",
    "        sum1//=10\n",
    "    return res\n",
    "\n",
    "def square(sum1):\n",
    "    res=int(sum1**0.5)\n",
    "    return res*res==sum1\n",
    "\n",
    "arr = [1, 2, 4, 5, 7, 8, 10]\n",
    "count=0\n",
    "n=len(arr)\n",
    "for i in range(n-2):\n",
    "    j=i+1\n",
    "    k=n-1\n",
    "    while j<k:\n",
    "        sum1=arr[i]+arr[j]+arr[k]\n",
    "        if square(digit(sum1)):\n",
    "            count+=1\n",
    "        k-=1\n",
    "        if j==k:\n",
    "            j+=1\n",
    "            k=n-1\n",
    "print(count)\n",
    "#time O(n3)"
   ]
  },
  {
   "cell_type": "code",
   "execution_count": null,
   "id": "54b223c9",
   "metadata": {},
   "outputs": [
    {
     "name": "stdout",
     "output_type": "stream",
     "text": [
      "13\n"
     ]
    }
   ],
   "source": [
    "#other method and mod 9\n",
    "def digit(sum1):\n",
    "    if sum1==0:\n",
    "        return 0\n",
    "    if sum1%9==0:\n",
    "        return 9\n",
    "    else:\n",
    "        return sum1%9\n",
    "\n",
    "def square(sum1):\n",
    "    res=int(sum1**0.5)\n",
    "    return res*res==sum1\n",
    "\n",
    "arr = [1, 2, 4, 5, 7, 8, 10]\n",
    "count=0\n",
    "n=len(arr)\n",
    "for i in range(n-2):\n",
    "    j=i+1\n",
    "    k=n-1\n",
    "    while j<k:\n",
    "        sum1=arr[i]+arr[j]+arr[k]\n",
    "        if square(digit(sum1)):\n",
    "            count+=1\n",
    "        k-=1\n",
    "        if j==k:\n",
    "            j+=1\n",
    "            k=n-1\n",
    "print(count)\n",
    "#time O(n3)"
   ]
  },
  {
   "cell_type": "code",
   "execution_count": 7,
   "id": "ffcf4b3a",
   "metadata": {},
   "outputs": [
    {
     "name": "stdout",
     "output_type": "stream",
     "text": [
      "1\n",
      "5\n"
     ]
    }
   ],
   "source": [
    "'''The problem is Odd Difference:\n",
    "\n",
    "You’re given an array A of size N.\n",
    "\n",
    "You can perform exactly one operation: pick any element A[i] and change its parity (odd → even or even → odd) by subtracting 1.\n",
    "\n",
    "After that, compute:\n",
    "\n",
    "abs(sum_even-sum_odd)\n",
    "abs(sum_even-sum_odd)\n",
    "\n",
    "You must minimize this absolute difference.'''\n",
    "'''\n",
    "2\n",
    "3\n",
    "1 2 3\n",
    "4\n",
    "2 2 2 2\n",
    "'''\n",
    "def solve(n,arr):\n",
    "    even_sum=sum(x for x in arr if x%2==0)\n",
    "    odd_sum=sum(x for x in arr if x%2!=0)\n",
    "\n",
    "    min1=float('inf')\n",
    "\n",
    "    for i in arr:\n",
    "        if i%2==0:\n",
    "            new_even_sum=even_sum-i\n",
    "            new_odd_sum=odd_sum+(i-1)\n",
    "        else:\n",
    "            new_even_sum=even_sum + (i-1)\n",
    "            new_odd_sum=odd_sum-i\n",
    "        min1=min(min1,abs(new_even_sum-new_odd_sum))\n",
    "    return min1\n",
    "    \n",
    "t=int(input())\n",
    "for _ in range(t):\n",
    "    n=int(input())\n",
    "    arr=list(map(int,input().split()))\n",
    "    print(solve(n,arr))\n"
   ]
  },
  {
   "cell_type": "code",
   "execution_count": null,
   "id": "02ecf873",
   "metadata": {},
   "outputs": [],
   "source": []
  }
 ],
 "metadata": {
  "kernelspec": {
   "display_name": "Python 3",
   "language": "python",
   "name": "python3"
  },
  "language_info": {
   "codemirror_mode": {
    "name": "ipython",
    "version": 3
   },
   "file_extension": ".py",
   "mimetype": "text/x-python",
   "name": "python",
   "nbconvert_exporter": "python",
   "pygments_lexer": "ipython3",
   "version": "3.11.9"
  }
 },
 "nbformat": 4,
 "nbformat_minor": 5
}
