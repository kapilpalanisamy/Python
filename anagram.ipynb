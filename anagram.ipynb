{
 "cells": [
  {
   "cell_type": "code",
   "execution_count": null,
   "id": "1c865eda",
   "metadata": {},
   "outputs": [],
   "source": [
    "#anagram\n",
    "#Sorting Method\n",
    "#Hash Table Method"
   ]
  },
  {
   "cell_type": "code",
   "execution_count": 4,
   "id": "29158827",
   "metadata": {},
   "outputs": [
    {
     "data": {
      "text/plain": [
       "True"
      ]
     },
     "execution_count": 4,
     "metadata": {},
     "output_type": "execute_result"
    }
   ],
   "source": [
    "#sort can be used only in list\n",
    "#but sorted can be used in list,tuple,string,sets,dictionaries. \n",
    "class Solution:\n",
    "    def anagram(self,str1,str2):\n",
    "        if len(str1)!=len(str2):\n",
    "            return False\n",
    "        return sorted(str1)==sorted(str2)\n",
    "a=Solution()\n",
    "s = \"racecar\"\n",
    "t = \"carrace\"\n",
    "a.anagram(s,t)"
   ]
  },
  {
   "cell_type": "code",
   "execution_count": 1,
   "id": "367d4702",
   "metadata": {},
   "outputs": [
    {
     "data": {
      "text/plain": [
       "True"
      ]
     },
     "execution_count": 1,
     "metadata": {},
     "output_type": "execute_result"
    }
   ],
   "source": [
    "#counter method\n",
    "from collections import Counter\n",
    "class Solution:\n",
    "    def anagram(self,str1,str2):\n",
    "        return Counter(str1)==Counter(str2)\n",
    "a=Solution()\n",
    "s = \"racecar\"\n",
    "t = \"carrace\"\n",
    "a.anagram(s,t)"
   ]
  },
  {
   "cell_type": "code",
   "execution_count": 14,
   "id": "b0e59b41",
   "metadata": {},
   "outputs": [
    {
     "data": {
      "text/plain": [
       "True"
      ]
     },
     "execution_count": 14,
     "metadata": {},
     "output_type": "execute_result"
    }
   ],
   "source": [
    "#Hash Table Method\n",
    "#ord(char) gives the Unicode (ASCII) code of a character.\n",
    "#ord('a') is 97, so ord(s[i]) - ord('a') maps 'a' to 0, 'b' to 1, etc.\n",
    "class Solution:\n",
    "    def anagram(self,str1,str2):\n",
    "        if len(str1)!=len(str2):\n",
    "            return False\n",
    "        count=[0]*26\n",
    "        for i in range(len(str1)):\n",
    "            count[ord(str1[i])-ord('a')] +=1\n",
    "            count[ord(str2[i])-ord('a')] -=1\n",
    "        for i in count:\n",
    "            if i!=0:\n",
    "                return False\n",
    "        return True\n",
    "a=Solution()\n",
    "s = \"racecar\"\n",
    "t = \"carrace\"\n",
    "a.anagram(s,t)"
   ]
  },
  {
   "cell_type": "code",
   "execution_count": null,
   "id": "2a150652",
   "metadata": {},
   "outputs": [],
   "source": [
    "class Solution:\n",
    "    def isAnagram(self, s: str, t: str) -> bool:\n",
    "        if len(s)!=len(t):\n",
    "            return False\n",
    "        freq=[0]*26\n",
    "\n",
    "        for i in s:\n",
    "            freq[ord(i)-ord('a')]+=1\n",
    "        for j in t:\n",
    "            freq[ord(j)-ord('a')]-=1\n",
    "            if freq[ord(j)-ord('a')]<0:\n",
    "                return False\n",
    "        return True\n",
    "\n"
   ]
  },
  {
   "cell_type": "code",
   "execution_count": null,
   "id": "a72b6541",
   "metadata": {},
   "outputs": [],
   "source": [
    "class Solution:\n",
    "    def isAnagram(self, s: str, t: str) -> bool:\n",
    "        if len(s)!=len(t):\n",
    "            return False\n",
    "        for ch in set(s):\n",
    "            if s.count(ch)!=t.count(ch):\n",
    "                return False\n",
    "        return True"
   ]
  }
 ],
 "metadata": {
  "kernelspec": {
   "display_name": "Python 3",
   "language": "python",
   "name": "python3"
  },
  "language_info": {
   "codemirror_mode": {
    "name": "ipython",
    "version": 3
   },
   "file_extension": ".py",
   "mimetype": "text/x-python",
   "name": "python",
   "nbconvert_exporter": "python",
   "pygments_lexer": "ipython3",
   "version": "3.11.9"
  }
 },
 "nbformat": 4,
 "nbformat_minor": 5
}
